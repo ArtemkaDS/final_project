{
  "nbformat": 4,
  "nbformat_minor": 0,
  "metadata": {
    "colab": {
      "name": "Fomkin_bunk_churners",
      "provenance": [],
      "collapsed_sections": [],
      "include_colab_link": true
    },
    "kernelspec": {
      "name": "python3",
      "display_name": "Python 3"
    }
  },
  "cells": [
    {
      "cell_type": "markdown",
      "metadata": {
        "id": "view-in-github",
        "colab_type": "text"
      },
      "source": [
        "<a href=\"https://colab.research.google.com/github/ArtemkaDS/final_project/blob/main/Fomkin_bunk_churners.ipynb\" target=\"_parent\"><img src=\"https://colab.research.google.com/assets/colab-badge.svg\" alt=\"Open In Colab\"/></a>"
      ]
    },
    {
      "cell_type": "code",
      "metadata": {
        "id": "5VATi8IEzMaP"
      },
      "source": [
        "import seaborn as sns\n",
        "import pandas as pd\n",
        "import numpy as np\n",
        "import matplotlib.pyplot as plt\n",
        "from matplotlib.pyplot import figure\n",
        "from imblearn.over_sampling import SMOTE\n",
        "from sklearn.ensemble import RandomForestClassifier\n",
        "from sklearn.model_selection import GridSearchCV\n",
        "from sklearn.model_selection import train_test_split\n",
        "from sklearn.linear_model import LogisticRegression\n",
        "from sklearn.ensemble import RandomForestRegressor\n",
        "from sklearn.preprocessing import StandardScaler\n",
        "from sklearn.svm import SVR\n",
        "from sklearn.pipeline import Pipeline\n",
        "from sklearn import metrics\n"
      ],
      "execution_count": null,
      "outputs": []
    },
    {
      "cell_type": "markdown",
      "metadata": {
        "id": "yId7JLAxtkOC"
      },
      "source": [
        "# I Анализ и подготовка данных"
      ]
    },
    {
      "cell_type": "markdown",
      "metadata": {
        "id": "lnzCGveV0kMA"
      },
      "source": [
        "Загружаем датасет"
      ]
    },
    {
      "cell_type": "code",
      "metadata": {
        "id": "1GYbYqVNqusN"
      },
      "source": [
        "bc = pd.read_csv(r'https://raw.githubusercontent.com/ArtemkaDS/final_project/main/Bank_churners.csv')\n"
      ],
      "execution_count": null,
      "outputs": []
    },
    {
      "cell_type": "markdown",
      "metadata": {
        "id": "1dHsLrj_Vvru"
      },
      "source": [
        "Отображаем данные"
      ]
    },
    {
      "cell_type": "code",
      "metadata": {
        "colab": {
          "base_uri": "https://localhost:8080/",
          "height": 301
        },
        "id": "NY9b-KCmrtWL",
        "outputId": "4a9c255c-6ce7-4981-8474-098e0016da17"
      },
      "source": [
        "bc.head()\n"
      ],
      "execution_count": null,
      "outputs": [
        {
          "output_type": "execute_result",
          "data": {
            "text/html": [
              "<div>\n",
              "<style scoped>\n",
              "    .dataframe tbody tr th:only-of-type {\n",
              "        vertical-align: middle;\n",
              "    }\n",
              "\n",
              "    .dataframe tbody tr th {\n",
              "        vertical-align: top;\n",
              "    }\n",
              "\n",
              "    .dataframe thead th {\n",
              "        text-align: right;\n",
              "    }\n",
              "</style>\n",
              "<table border=\"1\" class=\"dataframe\">\n",
              "  <thead>\n",
              "    <tr style=\"text-align: right;\">\n",
              "      <th></th>\n",
              "      <th>CLIENTNUM</th>\n",
              "      <th>Attrition_Flag</th>\n",
              "      <th>Customer_Age</th>\n",
              "      <th>Gender</th>\n",
              "      <th>Dependent_count</th>\n",
              "      <th>Education_Level</th>\n",
              "      <th>Marital_Status</th>\n",
              "      <th>Income_Category</th>\n",
              "      <th>Card_Category</th>\n",
              "      <th>Months_on_book</th>\n",
              "      <th>Total_Relationship_Count</th>\n",
              "      <th>Months_Inactive_12_mon</th>\n",
              "      <th>Contacts_Count_12_mon</th>\n",
              "      <th>Credit_Limit</th>\n",
              "      <th>Total_Revolving_Bal</th>\n",
              "      <th>Avg_Open_To_Buy</th>\n",
              "      <th>Total_Amt_Chng_Q4_Q1</th>\n",
              "      <th>Total_Trans_Amt</th>\n",
              "      <th>Total_Trans_Ct</th>\n",
              "      <th>Total_Ct_Chng_Q4_Q1</th>\n",
              "      <th>Avg_Utilization_Ratio</th>\n",
              "      <th>Naive_Bayes_Classifier_Attrition_Flag_Card_Category_Contacts_Count_12_mon_Dependent_count_Education_Level_Months_Inactive_12_mon_1</th>\n",
              "      <th>Naive_Bayes_Classifier_Attrition_Flag_Card_Category_Contacts_Count_12_mon_Dependent_count_Education_Level_Months_Inactive_12_mon_2</th>\n",
              "    </tr>\n",
              "  </thead>\n",
              "  <tbody>\n",
              "    <tr>\n",
              "      <th>0</th>\n",
              "      <td>768805383</td>\n",
              "      <td>Existing Customer</td>\n",
              "      <td>45</td>\n",
              "      <td>M</td>\n",
              "      <td>3</td>\n",
              "      <td>High School</td>\n",
              "      <td>Married</td>\n",
              "      <td>$60K - $80K</td>\n",
              "      <td>Blue</td>\n",
              "      <td>39</td>\n",
              "      <td>5</td>\n",
              "      <td>1</td>\n",
              "      <td>3</td>\n",
              "      <td>12691.0</td>\n",
              "      <td>777</td>\n",
              "      <td>11914.0</td>\n",
              "      <td>1.335</td>\n",
              "      <td>1144</td>\n",
              "      <td>42</td>\n",
              "      <td>1.625</td>\n",
              "      <td>0.061</td>\n",
              "      <td>0.000093</td>\n",
              "      <td>0.99991</td>\n",
              "    </tr>\n",
              "    <tr>\n",
              "      <th>1</th>\n",
              "      <td>818770008</td>\n",
              "      <td>Existing Customer</td>\n",
              "      <td>49</td>\n",
              "      <td>F</td>\n",
              "      <td>5</td>\n",
              "      <td>Graduate</td>\n",
              "      <td>Single</td>\n",
              "      <td>Less than $40K</td>\n",
              "      <td>Blue</td>\n",
              "      <td>44</td>\n",
              "      <td>6</td>\n",
              "      <td>1</td>\n",
              "      <td>2</td>\n",
              "      <td>8256.0</td>\n",
              "      <td>864</td>\n",
              "      <td>7392.0</td>\n",
              "      <td>1.541</td>\n",
              "      <td>1291</td>\n",
              "      <td>33</td>\n",
              "      <td>3.714</td>\n",
              "      <td>0.105</td>\n",
              "      <td>0.000057</td>\n",
              "      <td>0.99994</td>\n",
              "    </tr>\n",
              "    <tr>\n",
              "      <th>2</th>\n",
              "      <td>713982108</td>\n",
              "      <td>Existing Customer</td>\n",
              "      <td>51</td>\n",
              "      <td>M</td>\n",
              "      <td>3</td>\n",
              "      <td>Graduate</td>\n",
              "      <td>Married</td>\n",
              "      <td>$80K - $120K</td>\n",
              "      <td>Blue</td>\n",
              "      <td>36</td>\n",
              "      <td>4</td>\n",
              "      <td>1</td>\n",
              "      <td>0</td>\n",
              "      <td>3418.0</td>\n",
              "      <td>0</td>\n",
              "      <td>3418.0</td>\n",
              "      <td>2.594</td>\n",
              "      <td>1887</td>\n",
              "      <td>20</td>\n",
              "      <td>2.333</td>\n",
              "      <td>0.000</td>\n",
              "      <td>0.000021</td>\n",
              "      <td>0.99998</td>\n",
              "    </tr>\n",
              "    <tr>\n",
              "      <th>3</th>\n",
              "      <td>769911858</td>\n",
              "      <td>Existing Customer</td>\n",
              "      <td>40</td>\n",
              "      <td>F</td>\n",
              "      <td>4</td>\n",
              "      <td>High School</td>\n",
              "      <td>Unknown</td>\n",
              "      <td>Less than $40K</td>\n",
              "      <td>Blue</td>\n",
              "      <td>34</td>\n",
              "      <td>3</td>\n",
              "      <td>4</td>\n",
              "      <td>1</td>\n",
              "      <td>3313.0</td>\n",
              "      <td>2517</td>\n",
              "      <td>796.0</td>\n",
              "      <td>1.405</td>\n",
              "      <td>1171</td>\n",
              "      <td>20</td>\n",
              "      <td>2.333</td>\n",
              "      <td>0.760</td>\n",
              "      <td>0.000134</td>\n",
              "      <td>0.99987</td>\n",
              "    </tr>\n",
              "    <tr>\n",
              "      <th>4</th>\n",
              "      <td>709106358</td>\n",
              "      <td>Existing Customer</td>\n",
              "      <td>40</td>\n",
              "      <td>M</td>\n",
              "      <td>3</td>\n",
              "      <td>Uneducated</td>\n",
              "      <td>Married</td>\n",
              "      <td>$60K - $80K</td>\n",
              "      <td>Blue</td>\n",
              "      <td>21</td>\n",
              "      <td>5</td>\n",
              "      <td>1</td>\n",
              "      <td>0</td>\n",
              "      <td>4716.0</td>\n",
              "      <td>0</td>\n",
              "      <td>4716.0</td>\n",
              "      <td>2.175</td>\n",
              "      <td>816</td>\n",
              "      <td>28</td>\n",
              "      <td>2.500</td>\n",
              "      <td>0.000</td>\n",
              "      <td>0.000022</td>\n",
              "      <td>0.99998</td>\n",
              "    </tr>\n",
              "  </tbody>\n",
              "</table>\n",
              "</div>"
            ],
            "text/plain": [
              "   CLIENTNUM  ... Naive_Bayes_Classifier_Attrition_Flag_Card_Category_Contacts_Count_12_mon_Dependent_count_Education_Level_Months_Inactive_12_mon_2\n",
              "0  768805383  ...                                            0.99991                                                                                \n",
              "1  818770008  ...                                            0.99994                                                                                \n",
              "2  713982108  ...                                            0.99998                                                                                \n",
              "3  769911858  ...                                            0.99987                                                                                \n",
              "4  709106358  ...                                            0.99998                                                                                \n",
              "\n",
              "[5 rows x 23 columns]"
            ]
          },
          "metadata": {
            "tags": []
          },
          "execution_count": 4
        }
      ]
    },
    {
      "cell_type": "markdown",
      "metadata": {
        "id": "pcOLVKBgVYxB"
      },
      "source": [
        "Проанализируем описательную статистику на наличие выбросов."
      ]
    },
    {
      "cell_type": "code",
      "metadata": {
        "colab": {
          "base_uri": "https://localhost:8080/",
          "height": 307
        },
        "id": "hxGRR7T0sbBY",
        "outputId": "cd0763e1-1d38-4374-f914-e3265e3f2f49"
      },
      "source": [
        "bc.describe()\n"
      ],
      "execution_count": null,
      "outputs": [
        {
          "output_type": "execute_result",
          "data": {
            "text/html": [
              "<div>\n",
              "<style scoped>\n",
              "    .dataframe tbody tr th:only-of-type {\n",
              "        vertical-align: middle;\n",
              "    }\n",
              "\n",
              "    .dataframe tbody tr th {\n",
              "        vertical-align: top;\n",
              "    }\n",
              "\n",
              "    .dataframe thead th {\n",
              "        text-align: right;\n",
              "    }\n",
              "</style>\n",
              "<table border=\"1\" class=\"dataframe\">\n",
              "  <thead>\n",
              "    <tr style=\"text-align: right;\">\n",
              "      <th></th>\n",
              "      <th>CLIENTNUM</th>\n",
              "      <th>Customer_Age</th>\n",
              "      <th>Dependent_count</th>\n",
              "      <th>Months_on_book</th>\n",
              "      <th>Total_Relationship_Count</th>\n",
              "      <th>Months_Inactive_12_mon</th>\n",
              "      <th>Contacts_Count_12_mon</th>\n",
              "      <th>Credit_Limit</th>\n",
              "      <th>Total_Revolving_Bal</th>\n",
              "      <th>Avg_Open_To_Buy</th>\n",
              "      <th>Total_Amt_Chng_Q4_Q1</th>\n",
              "      <th>Total_Trans_Amt</th>\n",
              "      <th>Total_Trans_Ct</th>\n",
              "      <th>Total_Ct_Chng_Q4_Q1</th>\n",
              "      <th>Avg_Utilization_Ratio</th>\n",
              "      <th>Naive_Bayes_Classifier_Attrition_Flag_Card_Category_Contacts_Count_12_mon_Dependent_count_Education_Level_Months_Inactive_12_mon_1</th>\n",
              "      <th>Naive_Bayes_Classifier_Attrition_Flag_Card_Category_Contacts_Count_12_mon_Dependent_count_Education_Level_Months_Inactive_12_mon_2</th>\n",
              "    </tr>\n",
              "  </thead>\n",
              "  <tbody>\n",
              "    <tr>\n",
              "      <th>count</th>\n",
              "      <td>1.012700e+04</td>\n",
              "      <td>10127.000000</td>\n",
              "      <td>10127.000000</td>\n",
              "      <td>10127.000000</td>\n",
              "      <td>10127.000000</td>\n",
              "      <td>10127.000000</td>\n",
              "      <td>10127.000000</td>\n",
              "      <td>10127.000000</td>\n",
              "      <td>10127.000000</td>\n",
              "      <td>10127.000000</td>\n",
              "      <td>10127.000000</td>\n",
              "      <td>10127.000000</td>\n",
              "      <td>10127.000000</td>\n",
              "      <td>10127.000000</td>\n",
              "      <td>10127.000000</td>\n",
              "      <td>10127.000000</td>\n",
              "      <td>10127.000000</td>\n",
              "    </tr>\n",
              "    <tr>\n",
              "      <th>mean</th>\n",
              "      <td>7.391776e+08</td>\n",
              "      <td>46.325960</td>\n",
              "      <td>2.346203</td>\n",
              "      <td>35.928409</td>\n",
              "      <td>3.812580</td>\n",
              "      <td>2.341167</td>\n",
              "      <td>2.455317</td>\n",
              "      <td>8631.953698</td>\n",
              "      <td>1162.814061</td>\n",
              "      <td>7469.139637</td>\n",
              "      <td>0.759941</td>\n",
              "      <td>4404.086304</td>\n",
              "      <td>64.858695</td>\n",
              "      <td>0.712222</td>\n",
              "      <td>0.274894</td>\n",
              "      <td>0.159997</td>\n",
              "      <td>0.840003</td>\n",
              "    </tr>\n",
              "    <tr>\n",
              "      <th>std</th>\n",
              "      <td>3.690378e+07</td>\n",
              "      <td>8.016814</td>\n",
              "      <td>1.298908</td>\n",
              "      <td>7.986416</td>\n",
              "      <td>1.554408</td>\n",
              "      <td>1.010622</td>\n",
              "      <td>1.106225</td>\n",
              "      <td>9088.776650</td>\n",
              "      <td>814.987335</td>\n",
              "      <td>9090.685324</td>\n",
              "      <td>0.219207</td>\n",
              "      <td>3397.129254</td>\n",
              "      <td>23.472570</td>\n",
              "      <td>0.238086</td>\n",
              "      <td>0.275691</td>\n",
              "      <td>0.365301</td>\n",
              "      <td>0.365301</td>\n",
              "    </tr>\n",
              "    <tr>\n",
              "      <th>min</th>\n",
              "      <td>7.080821e+08</td>\n",
              "      <td>26.000000</td>\n",
              "      <td>0.000000</td>\n",
              "      <td>13.000000</td>\n",
              "      <td>1.000000</td>\n",
              "      <td>0.000000</td>\n",
              "      <td>0.000000</td>\n",
              "      <td>1438.300000</td>\n",
              "      <td>0.000000</td>\n",
              "      <td>3.000000</td>\n",
              "      <td>0.000000</td>\n",
              "      <td>510.000000</td>\n",
              "      <td>10.000000</td>\n",
              "      <td>0.000000</td>\n",
              "      <td>0.000000</td>\n",
              "      <td>0.000008</td>\n",
              "      <td>0.000420</td>\n",
              "    </tr>\n",
              "    <tr>\n",
              "      <th>25%</th>\n",
              "      <td>7.130368e+08</td>\n",
              "      <td>41.000000</td>\n",
              "      <td>1.000000</td>\n",
              "      <td>31.000000</td>\n",
              "      <td>3.000000</td>\n",
              "      <td>2.000000</td>\n",
              "      <td>2.000000</td>\n",
              "      <td>2555.000000</td>\n",
              "      <td>359.000000</td>\n",
              "      <td>1324.500000</td>\n",
              "      <td>0.631000</td>\n",
              "      <td>2155.500000</td>\n",
              "      <td>45.000000</td>\n",
              "      <td>0.582000</td>\n",
              "      <td>0.023000</td>\n",
              "      <td>0.000099</td>\n",
              "      <td>0.999660</td>\n",
              "    </tr>\n",
              "    <tr>\n",
              "      <th>50%</th>\n",
              "      <td>7.179264e+08</td>\n",
              "      <td>46.000000</td>\n",
              "      <td>2.000000</td>\n",
              "      <td>36.000000</td>\n",
              "      <td>4.000000</td>\n",
              "      <td>2.000000</td>\n",
              "      <td>2.000000</td>\n",
              "      <td>4549.000000</td>\n",
              "      <td>1276.000000</td>\n",
              "      <td>3474.000000</td>\n",
              "      <td>0.736000</td>\n",
              "      <td>3899.000000</td>\n",
              "      <td>67.000000</td>\n",
              "      <td>0.702000</td>\n",
              "      <td>0.176000</td>\n",
              "      <td>0.000181</td>\n",
              "      <td>0.999820</td>\n",
              "    </tr>\n",
              "    <tr>\n",
              "      <th>75%</th>\n",
              "      <td>7.731435e+08</td>\n",
              "      <td>52.000000</td>\n",
              "      <td>3.000000</td>\n",
              "      <td>40.000000</td>\n",
              "      <td>5.000000</td>\n",
              "      <td>3.000000</td>\n",
              "      <td>3.000000</td>\n",
              "      <td>11067.500000</td>\n",
              "      <td>1784.000000</td>\n",
              "      <td>9859.000000</td>\n",
              "      <td>0.859000</td>\n",
              "      <td>4741.000000</td>\n",
              "      <td>81.000000</td>\n",
              "      <td>0.818000</td>\n",
              "      <td>0.503000</td>\n",
              "      <td>0.000337</td>\n",
              "      <td>0.999900</td>\n",
              "    </tr>\n",
              "    <tr>\n",
              "      <th>max</th>\n",
              "      <td>8.283431e+08</td>\n",
              "      <td>73.000000</td>\n",
              "      <td>5.000000</td>\n",
              "      <td>56.000000</td>\n",
              "      <td>6.000000</td>\n",
              "      <td>6.000000</td>\n",
              "      <td>6.000000</td>\n",
              "      <td>34516.000000</td>\n",
              "      <td>2517.000000</td>\n",
              "      <td>34516.000000</td>\n",
              "      <td>3.397000</td>\n",
              "      <td>18484.000000</td>\n",
              "      <td>139.000000</td>\n",
              "      <td>3.714000</td>\n",
              "      <td>0.999000</td>\n",
              "      <td>0.999580</td>\n",
              "      <td>0.999990</td>\n",
              "    </tr>\n",
              "  </tbody>\n",
              "</table>\n",
              "</div>"
            ],
            "text/plain": [
              "          CLIENTNUM  ...  Naive_Bayes_Classifier_Attrition_Flag_Card_Category_Contacts_Count_12_mon_Dependent_count_Education_Level_Months_Inactive_12_mon_2\n",
              "count  1.012700e+04  ...                                       10127.000000                                                                                 \n",
              "mean   7.391776e+08  ...                                           0.840003                                                                                 \n",
              "std    3.690378e+07  ...                                           0.365301                                                                                 \n",
              "min    7.080821e+08  ...                                           0.000420                                                                                 \n",
              "25%    7.130368e+08  ...                                           0.999660                                                                                 \n",
              "50%    7.179264e+08  ...                                           0.999820                                                                                 \n",
              "75%    7.731435e+08  ...                                           0.999900                                                                                 \n",
              "max    8.283431e+08  ...                                           0.999990                                                                                 \n",
              "\n",
              "[8 rows x 17 columns]"
            ]
          },
          "metadata": {
            "tags": []
          },
          "execution_count": 5
        }
      ]
    },
    {
      "cell_type": "markdown",
      "metadata": {
        "id": "RrcOxqgVYAqh"
      },
      "source": [
        "Выбросов не обнаружено. Далее исследуем на наличие пропусков"
      ]
    },
    {
      "cell_type": "code",
      "metadata": {
        "id": "OCzk4sHuX4X2",
        "colab": {
          "base_uri": "https://localhost:8080/",
          "height": 1000
        },
        "outputId": "cdca8f00-1e0b-43eb-9a62-714844bf38d0"
      },
      "source": [
        "figure(figsize = (10, 15))\n",
        "sns.heatmap(bc.isnull(), cbar=False)\n",
        "plt.show()"
      ],
      "execution_count": null,
      "outputs": [
        {
          "output_type": "display_data",
          "data": {
            "image/png": "[encoded data removed]",
            "text/plain": [
              "<Figure size 720x1080 with 1 Axes>"
            ]
          },
          "metadata": {
            "tags": [],
            "needs_background": "light"
          }
        }
      ]
    },
    {
      "cell_type": "markdown",
      "metadata": {
        "id": "aquyORpjh0o9"
      },
      "source": [
        "Пропусков в данных также не обнаружено. Исследуем целевой параметр"
      ]
    },
    {
      "cell_type": "code",
      "metadata": {
        "colab": {
          "base_uri": "https://localhost:8080/"
        },
        "id": "knW_HNQDsRYE",
        "outputId": "648d0dd1-09d5-4b1b-c58e-4cc512ab49d7"
      },
      "source": [
        "bc.Income_Category.value_counts()\n"
      ],
      "execution_count": null,
      "outputs": [
        {
          "output_type": "execute_result",
          "data": {
            "text/plain": [
              "Less than $40K    3561\n",
              "$40K - $60K       1790\n",
              "$80K - $120K      1535\n",
              "$60K - $80K       1402\n",
              "Unknown           1112\n",
              "$120K +            727\n",
              "Name: Income_Category, dtype: int64"
            ]
          },
          "metadata": {
            "tags": []
          },
          "execution_count": 7
        }
      ]
    },
    {
      "cell_type": "markdown",
      "metadata": {
        "id": "Dj48tqIWiNPk"
      },
      "source": [
        "В выборке находим класс с неизвестными данными \"Unknown\". Выбрасываем его"
      ]
    },
    {
      "cell_type": "code",
      "metadata": {
        "id": "ZRLpVRHts40d"
      },
      "source": [
        "bc = bc[bc.Income_Category != 'Unknown']\n"
      ],
      "execution_count": null,
      "outputs": []
    },
    {
      "cell_type": "markdown",
      "metadata": {
        "id": "-Dk579MMvINf"
      },
      "source": [
        "backup"
      ]
    },
    {
      "cell_type": "code",
      "metadata": {
        "id": "dLAOIMu3mxGH"
      },
      "source": [
        "bc1 = bc.copy()\n"
      ],
      "execution_count": null,
      "outputs": []
    },
    {
      "cell_type": "markdown",
      "metadata": {
        "id": "BpWnuGrWnK_F"
      },
      "source": [
        "С помощью метода get_dummies из библиотеки pandas добавляем в датасет расширенную матрицу для обучения модели (ставим двоичные флаги по каждому клиенту)"
      ]
    },
    {
      "cell_type": "code",
      "metadata": {
        "id": "nYtoFNyu0bgQ"
      },
      "source": [
        "bc = pd.get_dummies(bc, prefix=['Education_Level', 'Marital_Status', 'Gender',\n",
        "                                'Card_Category', 'Attrition_Flag'],\n",
        "                    columns=['Education_Level', 'Marital_Status', 'Gender',\n",
        "                             'Card_Category', 'Attrition_Flag'])\n"
      ],
      "execution_count": null,
      "outputs": []
    },
    {
      "cell_type": "markdown",
      "metadata": {
        "id": "kuh7q5OjbmkL"
      },
      "source": [
        "Смотрим на получившийся дополненный датасет. "
      ]
    },
    {
      "cell_type": "code",
      "metadata": {
        "colab": {
          "base_uri": "https://localhost:8080/",
          "height": 234
        },
        "id": "Wty2SdxW1AXY",
        "outputId": "fe48fb47-7aef-4ee2-beb3-ea16bf2cde33"
      },
      "source": [
        "bc.head()\n"
      ],
      "execution_count": null,
      "outputs": [
        {
          "output_type": "execute_result",
          "data": {
            "text/html": [
              "<div>\n",
              "<style scoped>\n",
              "    .dataframe tbody tr th:only-of-type {\n",
              "        vertical-align: middle;\n",
              "    }\n",
              "\n",
              "    .dataframe tbody tr th {\n",
              "        vertical-align: top;\n",
              "    }\n",
              "\n",
              "    .dataframe thead th {\n",
              "        text-align: right;\n",
              "    }\n",
              "</style>\n",
              "<table border=\"1\" class=\"dataframe\">\n",
              "  <thead>\n",
              "    <tr style=\"text-align: right;\">\n",
              "      <th></th>\n",
              "      <th>CLIENTNUM</th>\n",
              "      <th>Customer_Age</th>\n",
              "      <th>Dependent_count</th>\n",
              "      <th>Income_Category</th>\n",
              "      <th>Months_on_book</th>\n",
              "      <th>Total_Relationship_Count</th>\n",
              "      <th>Months_Inactive_12_mon</th>\n",
              "      <th>Contacts_Count_12_mon</th>\n",
              "      <th>Credit_Limit</th>\n",
              "      <th>Total_Revolving_Bal</th>\n",
              "      <th>Avg_Open_To_Buy</th>\n",
              "      <th>Total_Amt_Chng_Q4_Q1</th>\n",
              "      <th>Total_Trans_Amt</th>\n",
              "      <th>Total_Trans_Ct</th>\n",
              "      <th>Total_Ct_Chng_Q4_Q1</th>\n",
              "      <th>Avg_Utilization_Ratio</th>\n",
              "      <th>Naive_Bayes_Classifier_Attrition_Flag_Card_Category_Contacts_Count_12_mon_Dependent_count_Education_Level_Months_Inactive_12_mon_1</th>\n",
              "      <th>Naive_Bayes_Classifier_Attrition_Flag_Card_Category_Contacts_Count_12_mon_Dependent_count_Education_Level_Months_Inactive_12_mon_2</th>\n",
              "      <th>Education_Level_College</th>\n",
              "      <th>Education_Level_Doctorate</th>\n",
              "      <th>Education_Level_Graduate</th>\n",
              "      <th>Education_Level_High School</th>\n",
              "      <th>Education_Level_Post-Graduate</th>\n",
              "      <th>Education_Level_Uneducated</th>\n",
              "      <th>Education_Level_Unknown</th>\n",
              "      <th>Marital_Status_Divorced</th>\n",
              "      <th>Marital_Status_Married</th>\n",
              "      <th>Marital_Status_Single</th>\n",
              "      <th>Marital_Status_Unknown</th>\n",
              "      <th>Gender_F</th>\n",
              "      <th>Gender_M</th>\n",
              "      <th>Card_Category_Blue</th>\n",
              "      <th>Card_Category_Gold</th>\n",
              "      <th>Card_Category_Platinum</th>\n",
              "      <th>Card_Category_Silver</th>\n",
              "      <th>Attrition_Flag_Attrited Customer</th>\n",
              "      <th>Attrition_Flag_Existing Customer</th>\n",
              "    </tr>\n",
              "  </thead>\n",
              "  <tbody>\n",
              "    <tr>\n",
              "      <th>0</th>\n",
              "      <td>768805383</td>\n",
              "      <td>45</td>\n",
              "      <td>3</td>\n",
              "      <td>$60K - $80K</td>\n",
              "      <td>39</td>\n",
              "      <td>5</td>\n",
              "      <td>1</td>\n",
              "      <td>3</td>\n",
              "      <td>12691.0</td>\n",
              "      <td>777</td>\n",
              "      <td>11914.0</td>\n",
              "      <td>1.335</td>\n",
              "      <td>1144</td>\n",
              "      <td>42</td>\n",
              "      <td>1.625</td>\n",
              "      <td>0.061</td>\n",
              "      <td>0.000093</td>\n",
              "      <td>0.99991</td>\n",
              "      <td>0</td>\n",
              "      <td>0</td>\n",
              "      <td>0</td>\n",
              "      <td>1</td>\n",
              "      <td>0</td>\n",
              "      <td>0</td>\n",
              "      <td>0</td>\n",
              "      <td>0</td>\n",
              "      <td>1</td>\n",
              "      <td>0</td>\n",
              "      <td>0</td>\n",
              "      <td>0</td>\n",
              "      <td>1</td>\n",
              "      <td>1</td>\n",
              "      <td>0</td>\n",
              "      <td>0</td>\n",
              "      <td>0</td>\n",
              "      <td>0</td>\n",
              "      <td>1</td>\n",
              "    </tr>\n",
              "    <tr>\n",
              "      <th>1</th>\n",
              "      <td>818770008</td>\n",
              "      <td>49</td>\n",
              "      <td>5</td>\n",
              "      <td>Less than $40K</td>\n",
              "      <td>44</td>\n",
              "      <td>6</td>\n",
              "      <td>1</td>\n",
              "      <td>2</td>\n",
              "      <td>8256.0</td>\n",
              "      <td>864</td>\n",
              "      <td>7392.0</td>\n",
              "      <td>1.541</td>\n",
              "      <td>1291</td>\n",
              "      <td>33</td>\n",
              "      <td>3.714</td>\n",
              "      <td>0.105</td>\n",
              "      <td>0.000057</td>\n",
              "      <td>0.99994</td>\n",
              "      <td>0</td>\n",
              "      <td>0</td>\n",
              "      <td>1</td>\n",
              "      <td>0</td>\n",
              "      <td>0</td>\n",
              "      <td>0</td>\n",
              "      <td>0</td>\n",
              "      <td>0</td>\n",
              "      <td>0</td>\n",
              "      <td>1</td>\n",
              "      <td>0</td>\n",
              "      <td>1</td>\n",
              "      <td>0</td>\n",
              "      <td>1</td>\n",
              "      <td>0</td>\n",
              "      <td>0</td>\n",
              "      <td>0</td>\n",
              "      <td>0</td>\n",
              "      <td>1</td>\n",
              "    </tr>\n",
              "    <tr>\n",
              "      <th>2</th>\n",
              "      <td>713982108</td>\n",
              "      <td>51</td>\n",
              "      <td>3</td>\n",
              "      <td>$80K - $120K</td>\n",
              "      <td>36</td>\n",
              "      <td>4</td>\n",
              "      <td>1</td>\n",
              "      <td>0</td>\n",
              "      <td>3418.0</td>\n",
              "      <td>0</td>\n",
              "      <td>3418.0</td>\n",
              "      <td>2.594</td>\n",
              "      <td>1887</td>\n",
              "      <td>20</td>\n",
              "      <td>2.333</td>\n",
              "      <td>0.000</td>\n",
              "      <td>0.000021</td>\n",
              "      <td>0.99998</td>\n",
              "      <td>0</td>\n",
              "      <td>0</td>\n",
              "      <td>1</td>\n",
              "      <td>0</td>\n",
              "      <td>0</td>\n",
              "      <td>0</td>\n",
              "      <td>0</td>\n",
              "      <td>0</td>\n",
              "      <td>1</td>\n",
              "      <td>0</td>\n",
              "      <td>0</td>\n",
              "      <td>0</td>\n",
              "      <td>1</td>\n",
              "      <td>1</td>\n",
              "      <td>0</td>\n",
              "      <td>0</td>\n",
              "      <td>0</td>\n",
              "      <td>0</td>\n",
              "      <td>1</td>\n",
              "    </tr>\n",
              "    <tr>\n",
              "      <th>3</th>\n",
              "      <td>769911858</td>\n",
              "      <td>40</td>\n",
              "      <td>4</td>\n",
              "      <td>Less than $40K</td>\n",
              "      <td>34</td>\n",
              "      <td>3</td>\n",
              "      <td>4</td>\n",
              "      <td>1</td>\n",
              "      <td>3313.0</td>\n",
              "      <td>2517</td>\n",
              "      <td>796.0</td>\n",
              "      <td>1.405</td>\n",
              "      <td>1171</td>\n",
              "      <td>20</td>\n",
              "      <td>2.333</td>\n",
              "      <td>0.760</td>\n",
              "      <td>0.000134</td>\n",
              "      <td>0.99987</td>\n",
              "      <td>0</td>\n",
              "      <td>0</td>\n",
              "      <td>0</td>\n",
              "      <td>1</td>\n",
              "      <td>0</td>\n",
              "      <td>0</td>\n",
              "      <td>0</td>\n",
              "      <td>0</td>\n",
              "      <td>0</td>\n",
              "      <td>0</td>\n",
              "      <td>1</td>\n",
              "      <td>1</td>\n",
              "      <td>0</td>\n",
              "      <td>1</td>\n",
              "      <td>0</td>\n",
              "      <td>0</td>\n",
              "      <td>0</td>\n",
              "      <td>0</td>\n",
              "      <td>1</td>\n",
              "    </tr>\n",
              "    <tr>\n",
              "      <th>4</th>\n",
              "      <td>709106358</td>\n",
              "      <td>40</td>\n",
              "      <td>3</td>\n",
              "      <td>$60K - $80K</td>\n",
              "      <td>21</td>\n",
              "      <td>5</td>\n",
              "      <td>1</td>\n",
              "      <td>0</td>\n",
              "      <td>4716.0</td>\n",
              "      <td>0</td>\n",
              "      <td>4716.0</td>\n",
              "      <td>2.175</td>\n",
              "      <td>816</td>\n",
              "      <td>28</td>\n",
              "      <td>2.500</td>\n",
              "      <td>0.000</td>\n",
              "      <td>0.000022</td>\n",
              "      <td>0.99998</td>\n",
              "      <td>0</td>\n",
              "      <td>0</td>\n",
              "      <td>0</td>\n",
              "      <td>0</td>\n",
              "      <td>0</td>\n",
              "      <td>1</td>\n",
              "      <td>0</td>\n",
              "      <td>0</td>\n",
              "      <td>1</td>\n",
              "      <td>0</td>\n",
              "      <td>0</td>\n",
              "      <td>0</td>\n",
              "      <td>1</td>\n",
              "      <td>1</td>\n",
              "      <td>0</td>\n",
              "      <td>0</td>\n",
              "      <td>0</td>\n",
              "      <td>0</td>\n",
              "      <td>1</td>\n",
              "    </tr>\n",
              "  </tbody>\n",
              "</table>\n",
              "</div>"
            ],
            "text/plain": [
              "   CLIENTNUM  ...  Attrition_Flag_Existing Customer\n",
              "0  768805383  ...                                 1\n",
              "1  818770008  ...                                 1\n",
              "2  713982108  ...                                 1\n",
              "3  769911858  ...                                 1\n",
              "4  709106358  ...                                 1\n",
              "\n",
              "[5 rows x 37 columns]"
            ]
          },
          "metadata": {
            "tags": []
          },
          "execution_count": 11
        }
      ]
    },
    {
      "cell_type": "markdown",
      "metadata": {
        "id": "Z4By5lh2onFz"
      },
      "source": [
        "Выбрасываем нерелевантные параметры, которые никак не повлияют на результат предсказания"
      ]
    },
    {
      "cell_type": "code",
      "metadata": {
        "id": "oEC7M-cc2N5h"
      },
      "source": [
        "bc = bc.drop(['CLIENTNUM','Naive_Bayes_Classifier_Attrition_Flag_Card_Category_Contacts_Count_12_mon_Dependent_count_Education_Level_Months_Inactive_12_mon_1',\n",
        "                          'Naive_Bayes_Classifier_Attrition_Flag_Card_Category_Contacts_Count_12_mon_Dependent_count_Education_Level_Months_Inactive_12_mon_2',\n",
        "                          'Education_Level_Unknown', 'Marital_Status_Unknown'], axis=1)\n"
      ],
      "execution_count": null,
      "outputs": []
    },
    {
      "cell_type": "markdown",
      "metadata": {
        "id": "27Eeu5B2ql8H"
      },
      "source": [
        "Смотрим актуальные параметры для обучения модели"
      ]
    },
    {
      "cell_type": "code",
      "metadata": {
        "id": "PSIiKjJx2OHV",
        "colab": {
          "base_uri": "https://localhost:8080/"
        },
        "outputId": "6c9bdac1-7e62-47c9-862e-947fcb8c37c6"
      },
      "source": [
        "bc.info()\n"
      ],
      "execution_count": null,
      "outputs": [
        {
          "output_type": "stream",
          "text": [
            "<class 'pandas.core.frame.DataFrame'>\n",
            "Int64Index: 9015 entries, 0 to 10126\n",
            "Data columns (total 32 columns):\n",
            " #   Column                            Non-Null Count  Dtype  \n",
            "---  ------                            --------------  -----  \n",
            " 0   Customer_Age                      9015 non-null   int64  \n",
            " 1   Dependent_count                   9015 non-null   int64  \n",
            " 2   Income_Category                   9015 non-null   object \n",
            " 3   Months_on_book                    9015 non-null   int64  \n",
            " 4   Total_Relationship_Count          9015 non-null   int64  \n",
            " 5   Months_Inactive_12_mon            9015 non-null   int64  \n",
            " 6   Contacts_Count_12_mon             9015 non-null   int64  \n",
            " 7   Credit_Limit                      9015 non-null   float64\n",
            " 8   Total_Revolving_Bal               9015 non-null   int64  \n",
            " 9   Avg_Open_To_Buy                   9015 non-null   float64\n",
            " 10  Total_Amt_Chng_Q4_Q1              9015 non-null   float64\n",
            " 11  Total_Trans_Amt                   9015 non-null   int64  \n",
            " 12  Total_Trans_Ct                    9015 non-null   int64  \n",
            " 13  Total_Ct_Chng_Q4_Q1               9015 non-null   float64\n",
            " 14  Avg_Utilization_Ratio             9015 non-null   float64\n",
            " 15  Education_Level_College           9015 non-null   uint8  \n",
            " 16  Education_Level_Doctorate         9015 non-null   uint8  \n",
            " 17  Education_Level_Graduate          9015 non-null   uint8  \n",
            " 18  Education_Level_High School       9015 non-null   uint8  \n",
            " 19  Education_Level_Post-Graduate     9015 non-null   uint8  \n",
            " 20  Education_Level_Uneducated        9015 non-null   uint8  \n",
            " 21  Marital_Status_Divorced           9015 non-null   uint8  \n",
            " 22  Marital_Status_Married            9015 non-null   uint8  \n",
            " 23  Marital_Status_Single             9015 non-null   uint8  \n",
            " 24  Gender_F                          9015 non-null   uint8  \n",
            " 25  Gender_M                          9015 non-null   uint8  \n",
            " 26  Card_Category_Blue                9015 non-null   uint8  \n",
            " 27  Card_Category_Gold                9015 non-null   uint8  \n",
            " 28  Card_Category_Platinum            9015 non-null   uint8  \n",
            " 29  Card_Category_Silver              9015 non-null   uint8  \n",
            " 30  Attrition_Flag_Attrited Customer  9015 non-null   uint8  \n",
            " 31  Attrition_Flag_Existing Customer  9015 non-null   uint8  \n",
            "dtypes: float64(5), int64(9), object(1), uint8(17)\n",
            "memory usage: 1.2+ MB\n"
          ],
          "name": "stdout"
        }
      ]
    },
    {
      "cell_type": "markdown",
      "metadata": {
        "id": "v-TA3bNaDoOl"
      },
      "source": [
        "Посмотрим на корреляции в датасете на тепловой карте"
      ]
    },
    {
      "cell_type": "code",
      "metadata": {
        "colab": {
          "base_uri": "https://localhost:8080/",
          "height": 915
        },
        "id": "g47WdPKb70ei",
        "outputId": "c5702f2d-e5f8-41c1-fa32-b2f80f266dba"
      },
      "source": [
        "plt.subplots(figsize=(14,14))\n",
        "sns.heatmap(bc.corr(), square=True, cmap='viridis',linecolor=\"white\", linewidths=0.005)\n",
        "plt.title('Корреляция данных')\n"
      ],
      "execution_count": null,
      "outputs": [
        {
          "output_type": "execute_result",
          "data": {
            "text/plain": [
              "Text(0.5, 1.0, 'Корреляция данных')"
            ]
          },
          "metadata": {
            "tags": []
          },
          "execution_count": 14
        },
        {
          "output_type": "display_data",
          "data": {
            "image/png": "[encoded data removed]",
            "text/plain": [
              "<Figure size 1008x1008 with 2 Axes>"
            ]
          },
          "metadata": {
            "tags": [],
            "needs_background": "light"
          }
        }
      ]
    },
    {
      "cell_type": "markdown",
      "metadata": {
        "id": "GBkT8KppDr1S"
      },
      "source": [
        "Наблюдаются очевидно логичные корреляции между **возрастом клиента (customer age)** и сроком его **присутствия в \"журналах\" в месяцах (months on book)** *(чем старше клиент, тем больше вероятность его раннего появления в базе)*, а также между **общим количеством транзакций** и **общим количеством категорий по этим транзакциям**. Считаю данные корреляции некритичными. \n",
        "Также наблюдается почти 100%-ая корреляция показателя **кредитный лимит (credit limit)** и показателем **open to buy**"
      ]
    },
    {
      "cell_type": "markdown",
      "metadata": {
        "id": "k8CBNR_FYPwY"
      },
      "source": [
        "Выбрасываем показатель **кредитный лимит**"
      ]
    },
    {
      "cell_type": "code",
      "metadata": {
        "id": "s9RssUJ4YUmF"
      },
      "source": [
        "bc = bc.drop(['Credit_Limit'], axis=1)\n"
      ],
      "execution_count": null,
      "outputs": []
    },
    {
      "cell_type": "markdown",
      "metadata": {
        "id": "vN_9yZH8Fxgn"
      },
      "source": [
        "Выделяем целевую переменную и создаем обучающую выборку"
      ]
    },
    {
      "cell_type": "code",
      "metadata": {
        "id": "2dFqKr9s6ffy"
      },
      "source": [
        "X = bc.drop(['Income_Category'], axis=1)\n",
        "y = bc.Income_Category\n"
      ],
      "execution_count": null,
      "outputs": []
    },
    {
      "cell_type": "markdown",
      "metadata": {
        "id": "_ZCcs2ATuP2g"
      },
      "source": [
        "Визуально оценим распределение признаков по нашей выборке"
      ]
    },
    {
      "cell_type": "code",
      "metadata": {
        "colab": {
          "base_uri": "https://localhost:8080/",
          "height": 1000
        },
        "id": "k6VCMNfBP7kp",
        "outputId": "453c932c-4445-4547-a997-78125fd252ad"
      },
      "source": [
        "X.hist(figsize=(20, 12), layout=(5,6), bins=30, facecolor='g')\n",
        "plt.show()\n"
      ],
      "execution_count": null,
      "outputs": [
        {
          "output_type": "execute_result",
          "data": {
            "text/plain": [
              "array([[<matplotlib.axes._subplots.AxesSubplot object at 0x7fa4f7f7c940>,\n",
              "        <matplotlib.axes._subplots.AxesSubplot object at 0x7fa4f7fa5ba8>,\n",
              "        <matplotlib.axes._subplots.AxesSubplot object at 0x7fa4f7f59e10>,\n",
              "        <matplotlib.axes._subplots.AxesSubplot object at 0x7fa4f7f1e0b8>,\n",
              "        <matplotlib.axes._subplots.AxesSubplot object at 0x7fa4f7ecf320>,\n",
              "        <matplotlib.axes._subplots.AxesSubplot object at 0x7fa4f7e82588>],\n",
              "       [<matplotlib.axes._subplots.AxesSubplot object at 0x7fa4f7e377f0>,\n",
              "        <matplotlib.axes._subplots.AxesSubplot object at 0x7fa4f7de9a20>,\n",
              "        <matplotlib.axes._subplots.AxesSubplot object at 0x7fa4f7de9a90>,\n",
              "        <matplotlib.axes._subplots.AxesSubplot object at 0x7fa4f7dd3f28>,\n",
              "        <matplotlib.axes._subplots.AxesSubplot object at 0x7fa4f7d931d0>,\n",
              "        <matplotlib.axes._subplots.AxesSubplot object at 0x7fa4f7d46438>],\n",
              "       [<matplotlib.axes._subplots.AxesSubplot object at 0x7fa4f7cfb6a0>,\n",
              "        <matplotlib.axes._subplots.AxesSubplot object at 0x7fa4f7cb0908>,\n",
              "        <matplotlib.axes._subplots.AxesSubplot object at 0x7fa4f7ce1b70>,\n",
              "        <matplotlib.axes._subplots.AxesSubplot object at 0x7fa4f7c96dd8>,\n",
              "        <matplotlib.axes._subplots.AxesSubplot object at 0x7fa4f7c5a080>,\n",
              "        <matplotlib.axes._subplots.AxesSubplot object at 0x7fa4f7c07588>],\n",
              "       [<matplotlib.axes._subplots.AxesSubplot object at 0x7fa4f7bba908>,\n",
              "        <matplotlib.axes._subplots.AxesSubplot object at 0x7fa4f7b6ac88>,\n",
              "        <matplotlib.axes._subplots.AxesSubplot object at 0x7fa4f7ba0fd0>,\n",
              "        <matplotlib.axes._subplots.AxesSubplot object at 0x7fa4f7b5c3c8>,\n",
              "        <matplotlib.axes._subplots.AxesSubplot object at 0x7fa4f7b10748>,\n",
              "        <matplotlib.axes._subplots.AxesSubplot object at 0x7fa4f7ac1ac8>],\n",
              "       [<matplotlib.axes._subplots.AxesSubplot object at 0x7fa4f7a74e48>,\n",
              "        <matplotlib.axes._subplots.AxesSubplot object at 0x7fa4f7a32208>,\n",
              "        <matplotlib.axes._subplots.AxesSubplot object at 0x7fa4f7a64588>,\n",
              "        <matplotlib.axes._subplots.AxesSubplot object at 0x7fa4f7a16908>,\n",
              "        <matplotlib.axes._subplots.AxesSubplot object at 0x7fa4f79c8c88>,\n",
              "        <matplotlib.axes._subplots.AxesSubplot object at 0x7fa4f797cfd0>]],\n",
              "      dtype=object)"
            ]
          },
          "metadata": {
            "tags": []
          },
          "execution_count": 17
        },
        {
          "output_type": "display_data",
          "data": {
            "image/png": "[encoded data removed]",
            "text/plain": [
              "<Figure size 1440x864 with 30 Axes>"
            ]
          },
          "metadata": {
            "tags": [],
            "needs_background": "light"
          }
        }
      ]
    },
    {
      "cell_type": "markdown",
      "metadata": {
        "id": "hEwk8wbki0Gy"
      },
      "source": [
        "На основании визуального анализа выборки видим, что значения возраста *(Customer Age)* сосредоточены в основной своей массе от 40 до 50. Пол *(Gender)* и семейное положение *(Marital Status)* распределены примерно поровну, существующих клиентов *(Existing Customer)* больше, чем привлеченных *(Attrited Customer)*"
      ]
    },
    {
      "cell_type": "markdown",
      "metadata": {
        "id": "p8yn5UyrvDOm"
      },
      "source": [
        "Выделим для теста 30% и разделим выборку на обучающую и тестовую в соотношении 70 / 30."
      ]
    },
    {
      "cell_type": "code",
      "metadata": {
        "id": "DxW3BI2L7dy2"
      },
      "source": [
        "X_train, X_test, y_train, y_test = train_test_split(X, y, test_size=0.3, random_state=42)\n"
      ],
      "execution_count": null,
      "outputs": []
    },
    {
      "cell_type": "markdown",
      "metadata": {
        "id": "NZ6wvtqVcAUf"
      },
      "source": [
        "Посмотрим на наши классы на предмет необходимости балансировки"
      ]
    },
    {
      "cell_type": "code",
      "metadata": {
        "colab": {
          "base_uri": "https://localhost:8080/",
          "height": 227
        },
        "id": "nw8H8oxib-d0",
        "outputId": "f3ef4b02-4787-4143-d175-0fc70c1f2611"
      },
      "source": [
        "inc_values = bc.Income_Category.value_counts()\n",
        "df_inc_values = pd.DataFrame({'Count': inc_values})\n",
        "df_inc_values.index.names = ['Category']\n",
        "df_inc_values\n"
      ],
      "execution_count": null,
      "outputs": [
        {
          "output_type": "execute_result",
          "data": {
            "text/html": [
              "<div>\n",
              "<style scoped>\n",
              "    .dataframe tbody tr th:only-of-type {\n",
              "        vertical-align: middle;\n",
              "    }\n",
              "\n",
              "    .dataframe tbody tr th {\n",
              "        vertical-align: top;\n",
              "    }\n",
              "\n",
              "    .dataframe thead th {\n",
              "        text-align: right;\n",
              "    }\n",
              "</style>\n",
              "<table border=\"1\" class=\"dataframe\">\n",
              "  <thead>\n",
              "    <tr style=\"text-align: right;\">\n",
              "      <th></th>\n",
              "      <th>Count</th>\n",
              "    </tr>\n",
              "    <tr>\n",
              "      <th>Category</th>\n",
              "      <th></th>\n",
              "    </tr>\n",
              "  </thead>\n",
              "  <tbody>\n",
              "    <tr>\n",
              "      <th>Less than $40K</th>\n",
              "      <td>3561</td>\n",
              "    </tr>\n",
              "    <tr>\n",
              "      <th>$40K - $60K</th>\n",
              "      <td>1790</td>\n",
              "    </tr>\n",
              "    <tr>\n",
              "      <th>$80K - $120K</th>\n",
              "      <td>1535</td>\n",
              "    </tr>\n",
              "    <tr>\n",
              "      <th>$60K - $80K</th>\n",
              "      <td>1402</td>\n",
              "    </tr>\n",
              "    <tr>\n",
              "      <th>$120K +</th>\n",
              "      <td>727</td>\n",
              "    </tr>\n",
              "  </tbody>\n",
              "</table>\n",
              "</div>"
            ],
            "text/plain": [
              "                Count\n",
              "Category             \n",
              "Less than $40K   3561\n",
              "$40K - $60K      1790\n",
              "$80K - $120K     1535\n",
              "$60K - $80K      1402\n",
              "$120K +           727"
            ]
          },
          "metadata": {
            "tags": []
          },
          "execution_count": 19
        }
      ]
    },
    {
      "cell_type": "markdown",
      "metadata": {
        "id": "LETUVdlXyWRF"
      },
      "source": [
        "Для наглядности отразим их на графике"
      ]
    },
    {
      "cell_type": "code",
      "metadata": {
        "colab": {
          "base_uri": "https://localhost:8080/",
          "height": 390
        },
        "id": "FDjWJbUkyFeX",
        "outputId": "40aa3cb8-9ad4-45ee-a31b-dfa84044165f"
      },
      "source": [
        "plt.figure(figsize=(10, 6))\n",
        "sns.barplot(x=df_inc_values.index, y='Count', data=df_inc_values)\n",
        "plt.grid(which='major',\n",
        "         linewidth=0.5)\n",
        "plt.show()\n"
      ],
      "execution_count": null,
      "outputs": [
        {
          "output_type": "display_data",
          "data": {
            "image/png": "[encoded data removed]",
            "text/plain": [
              "<Figure size 720x432 with 1 Axes>"
            ]
          },
          "metadata": {
            "tags": [],
            "needs_background": "light"
          }
        }
      ]
    },
    {
      "cell_type": "markdown",
      "metadata": {
        "id": "UTuZr5pq7T2M"
      },
      "source": [
        "Видим, что данные классов немного не сбалансированы. Применим оверсемплинг для баланиросвки данных. Воспользуемся *SMOTE* алогритмом из библиотеки *imblearn* и сгенерируем данные для миноритарных классов "
      ]
    },
    {
      "cell_type": "code",
      "metadata": {
        "colab": {
          "base_uri": "https://localhost:8080/"
        },
        "id": "qMt-mo3Te-I_",
        "outputId": "ae5abdee-9967-4786-c607-5ec101806a98"
      },
      "source": [
        "sm = SMOTE(random_state = 42)\n",
        "X_train_oversampled, y_train_oversampled = sm.fit_sample(X_train, y_train)\n"
      ],
      "execution_count": null,
      "outputs": [
        {
          "output_type": "stream",
          "text": [
            "/usr/local/lib/python3.6/dist-packages/sklearn/utils/deprecation.py:87: FutureWarning: Function safe_indexing is deprecated; safe_indexing is deprecated in version 0.22 and will be removed in version 0.24.\n",
            "  warnings.warn(msg, category=FutureWarning)\n",
            "/usr/local/lib/python3.6/dist-packages/sklearn/utils/deprecation.py:87: FutureWarning: Function safe_indexing is deprecated; safe_indexing is deprecated in version 0.22 and will be removed in version 0.24.\n",
            "  warnings.warn(msg, category=FutureWarning)\n",
            "/usr/local/lib/python3.6/dist-packages/sklearn/utils/deprecation.py:87: FutureWarning: Function safe_indexing is deprecated; safe_indexing is deprecated in version 0.22 and will be removed in version 0.24.\n",
            "  warnings.warn(msg, category=FutureWarning)\n",
            "/usr/local/lib/python3.6/dist-packages/sklearn/utils/deprecation.py:87: FutureWarning: Function safe_indexing is deprecated; safe_indexing is deprecated in version 0.22 and will be removed in version 0.24.\n",
            "  warnings.warn(msg, category=FutureWarning)\n"
          ],
          "name": "stderr"
        }
      ]
    },
    {
      "cell_type": "markdown",
      "metadata": {
        "id": "fV-sXp-EtEZC"
      },
      "source": [
        "# II Обучение модели"
      ]
    },
    {
      "cell_type": "markdown",
      "metadata": {
        "id": "uQRnGsyTiMr2"
      },
      "source": [
        "## 1. Random Forest"
      ]
    },
    {
      "cell_type": "markdown",
      "metadata": {
        "id": "en8uw4pcu41f"
      },
      "source": [
        "Будем решать задачу классификации с помощью алогритма *Random Forest*"
      ]
    },
    {
      "cell_type": "code",
      "metadata": {
        "id": "CDLvDPbM626l"
      },
      "source": [
        "clf = RandomForestClassifier()\n"
      ],
      "execution_count": null,
      "outputs": []
    },
    {
      "cell_type": "markdown",
      "metadata": {
        "id": "W7PeyUkpv_D8"
      },
      "source": [
        "Используем *GridSearchCV* для подбора параметров нашей модели. Ограничим число деревьев в лесу от 400 до 410, максимальную глубину ограничим от 8 до 12. Для кросс-валидации установим 3 фолда."
      ]
    },
    {
      "cell_type": "code",
      "metadata": {
        "id": "VRluZTPs74an",
        "colab": {
          "base_uri": "https://localhost:8080/"
        },
        "outputId": "927edf37-0475-47e8-9d38-bb629df14b97"
      },
      "source": [
        "grid_clf_RF = GridSearchCV(clf,\n",
        "                        {'n_estimators': range(400, 411),\n",
        "                        'max_depth': range(8, 13)},\n",
        "                        cv=3)\n",
        "grid_clf_RF.fit(X_train_oversampled, y_train_oversampled)\n"
      ],
      "execution_count": null,
      "outputs": [
        {
          "output_type": "execute_result",
          "data": {
            "text/plain": [
              "GridSearchCV(cv=3, error_score=nan,\n",
              "             estimator=RandomForestClassifier(bootstrap=True, ccp_alpha=0.0,\n",
              "                                              class_weight=None,\n",
              "                                              criterion='gini', max_depth=None,\n",
              "                                              max_features='auto',\n",
              "                                              max_leaf_nodes=None,\n",
              "                                              max_samples=None,\n",
              "                                              min_impurity_decrease=0.0,\n",
              "                                              min_impurity_split=None,\n",
              "                                              min_samples_leaf=1,\n",
              "                                              min_samples_split=2,\n",
              "                                              min_weight_fraction_leaf=0.0,\n",
              "                                              n_estimators=100, n_jobs=None,\n",
              "                                              oob_score=False,\n",
              "                                              random_state=None, verbose=0,\n",
              "                                              warm_start=False),\n",
              "             iid='deprecated', n_jobs=None,\n",
              "             param_grid={'max_depth': range(8, 13),\n",
              "                         'n_estimators': range(400, 411)},\n",
              "             pre_dispatch='2*n_jobs', refit=True, return_train_score=False,\n",
              "             scoring=None, verbose=0)"
            ]
          },
          "metadata": {
            "tags": []
          },
          "execution_count": 23
        }
      ]
    },
    {
      "cell_type": "markdown",
      "metadata": {
        "id": "MlwvwUKu9Kod"
      },
      "source": [
        "Находим лучшие параметры для нашего метода"
      ]
    },
    {
      "cell_type": "code",
      "metadata": {
        "colab": {
          "base_uri": "https://localhost:8080/"
        },
        "id": "5wekg4dN9JU_",
        "outputId": "8cc1adbf-b833-4a88-f150-e2e68df9f265"
      },
      "source": [
        "grid_clf_RF.best_params_\n"
      ],
      "execution_count": null,
      "outputs": [
        {
          "output_type": "execute_result",
          "data": {
            "text/plain": [
              "{'max_depth': 12, 'n_estimators': 408}"
            ]
          },
          "metadata": {
            "tags": []
          },
          "execution_count": 24
        }
      ]
    },
    {
      "cell_type": "markdown",
      "metadata": {
        "id": "eoh4pcAYf-vB"
      },
      "source": [
        "Сохраняем параметры"
      ]
    },
    {
      "cell_type": "code",
      "metadata": {
        "id": "mbYeaJY29srw"
      },
      "source": [
        "best_clf = grid_clf_RF.best_estimator_\n"
      ],
      "execution_count": null,
      "outputs": []
    },
    {
      "cell_type": "markdown",
      "metadata": {
        "id": "9RZ5pievgDCC"
      },
      "source": [
        "Смотрим score при лучших условиях"
      ]
    },
    {
      "cell_type": "code",
      "metadata": {
        "colab": {
          "base_uri": "https://localhost:8080/"
        },
        "id": "LTZb5cft9zsc",
        "outputId": "55cadcef-39ad-457e-ff20-a225640c2055"
      },
      "source": [
        "best_clf.score(X_test, y_test)\n"
      ],
      "execution_count": null,
      "outputs": [
        {
          "output_type": "execute_result",
          "data": {
            "text/plain": [
              "0.577818853974122"
            ]
          },
          "metadata": {
            "tags": []
          },
          "execution_count": 26
        }
      ]
    },
    {
      "cell_type": "markdown",
      "metadata": {
        "id": "9clzJcLjEEe6"
      },
      "source": [
        "Score на тестовой выборке показал 58%. "
      ]
    },
    {
      "cell_type": "code",
      "metadata": {
        "id": "Ft0ZQL-p_ZLY"
      },
      "source": [
        "y_pred = best_clf.predict(X_test)\n"
      ],
      "execution_count": null,
      "outputs": []
    },
    {
      "cell_type": "code",
      "metadata": {
        "colab": {
          "base_uri": "https://localhost:8080/"
        },
        "id": "8exXDea7AFig",
        "outputId": "896935bc-0e61-4687-abb2-29cfd7a655a7"
      },
      "source": [
        "print(metrics.classification_report(y_test, y_pred))\n"
      ],
      "execution_count": null,
      "outputs": [
        {
          "output_type": "stream",
          "text": [
            "                precision    recall  f1-score   support\n",
            "\n",
            "       $120K +       0.36      0.27      0.31       211\n",
            "   $40K - $60K       0.47      0.08      0.13       536\n",
            "   $60K - $80K       0.38      0.62      0.47       416\n",
            "  $80K - $120K       0.42      0.44      0.43       443\n",
            "Less than $40K       0.77      0.92      0.84      1099\n",
            "\n",
            "      accuracy                           0.58      2705\n",
            "     macro avg       0.48      0.47      0.44      2705\n",
            "  weighted avg       0.56      0.58      0.53      2705\n",
            "\n"
          ],
          "name": "stdout"
        }
      ]
    },
    {
      "cell_type": "markdown",
      "metadata": {
        "id": "AQxOJzhsFFB2"
      },
      "source": [
        "Из отчета об оценке видим, что результаты точности *(precision)*, полноты *(recall)* и f-меры *(f-score)* выше всего у класса **\"Меньше 40 т долл.\"**. Также показатель точности относительно средний для всех классов. Общий показатель точности 58%. Из-за значения *support*\n",
        "Недостаточно хороший результат, попробуем ниже другие методы, но сначала проанализируем влияние параметров на предсказание"
      ]
    },
    {
      "cell_type": "code",
      "metadata": {
        "id": "lgDRAT6MKYKL"
      },
      "source": [
        "features = best_clf.feature_importances_\n"
      ],
      "execution_count": null,
      "outputs": []
    },
    {
      "cell_type": "code",
      "metadata": {
        "id": "s6TMEZFONUuG"
      },
      "source": [
        "feature_importances = pd.DataFrame({'features': list(X), 'feature_importances': features })\n",
        "feature_importances.sort_values('feature_importances', ascending=False, inplace=True)\n"
      ],
      "execution_count": null,
      "outputs": []
    },
    {
      "cell_type": "markdown",
      "metadata": {
        "id": "47UA5wWrmVCF"
      },
      "source": [
        "Проанализируем получившиеся веса на графике"
      ]
    },
    {
      "cell_type": "code",
      "metadata": {
        "colab": {
          "base_uri": "https://localhost:8080/",
          "height": 633
        },
        "id": "_KYOg0rGWZ-s",
        "outputId": "c3681c99-1d80-44b5-d3ee-e325fe382da8"
      },
      "source": [
        "plt.figure(figsize=(20, 6))\n",
        "sns.barplot(x=feature_importances['features'],\n",
        "            y=feature_importances['feature_importances'],\n",
        "            data=feature_importances)\n",
        "plt.grid(linewidth=0.4)\n",
        "plt.xticks(rotation=90, fontsize=14)\n",
        "plt.xlabel('Feature', fontsize=15)\n",
        "plt.ylabel('Value', fontsize=15)\n",
        "plt.title('Feature importances', fontsize=20)\n",
        "plt.show()\n"
      ],
      "execution_count": null,
      "outputs": [
        {
          "output_type": "display_data",
          "data": {
            "image/png": "[encoded data removed]",
            "text/plain": [
              "<Figure size 1440x432 with 1 Axes>"
            ]
          },
          "metadata": {
            "tags": [],
            "needs_background": "light"
          }
        }
      ]
    },
    {
      "cell_type": "markdown",
      "metadata": {
        "id": "nRZQCdll8Qx2"
      },
      "source": [
        "Видим, что Random Forest макисмально влияющими на заработок клиентов банка считает пол в большей степени и показатель \"Open to buy\" немного в меньшей. Также можно отметить, что в гораздо меньшей степени, но согласно предсказанию RF влияют на заработок возраст клиента и количество совершаемых им транзакций за отчетный перирод. Остальные показатели влияют много меньше"
      ]
    },
    {
      "cell_type": "markdown",
      "metadata": {
        "id": "51X8K4AKiU1f"
      },
      "source": [
        "## 2. Логистическая регрессия"
      ]
    },
    {
      "cell_type": "markdown",
      "metadata": {
        "id": "KoB4b2u8EiH7"
      },
      "source": [
        "Попробуем применить другой метод для решения задачи классификации - логистическую регрессию"
      ]
    },
    {
      "cell_type": "code",
      "metadata": {
        "colab": {
          "base_uri": "https://localhost:8080/"
        },
        "id": "eO4JKR-Fh1KQ",
        "outputId": "e530ac09-d650-4aef-ac46-bcbabe44e277"
      },
      "source": [
        "logr = LogisticRegression(max_iter=10000)\n",
        "grid_clf_logr = GridSearchCV(logr,\n",
        "                        {'penalty': ['l1', 'l2'],\n",
        "                        'solver': ['sag', 'saga', 'lbfgs']},\n",
        "                        cv=3)\n",
        "grid_clf_logr.fit(X_train_oversampled, y_train_oversampled)\n"
      ],
      "execution_count": null,
      "outputs": [
        {
          "output_type": "stream",
          "text": [
            "/usr/local/lib/python3.6/dist-packages/sklearn/model_selection/_validation.py:536: FitFailedWarning: Estimator fit failed. The score on this train-test partition for these parameters will be set to nan. Details: \n",
            "ValueError: Solver sag supports only 'l2' or 'none' penalties, got l1 penalty.\n",
            "\n",
            "  FitFailedWarning)\n",
            "/usr/local/lib/python3.6/dist-packages/sklearn/model_selection/_validation.py:536: FitFailedWarning: Estimator fit failed. The score on this train-test partition for these parameters will be set to nan. Details: \n",
            "ValueError: Solver lbfgs supports only 'l2' or 'none' penalties, got l1 penalty.\n",
            "\n",
            "  FitFailedWarning)\n",
            "/usr/local/lib/python3.6/dist-packages/sklearn/linear_model/_logistic.py:940: ConvergenceWarning: lbfgs failed to converge (status=1):\n",
            "STOP: TOTAL NO. of ITERATIONS REACHED LIMIT.\n",
            "\n",
            "Increase the number of iterations (max_iter) or scale the data as shown in:\n",
            "    https://scikit-learn.org/stable/modules/preprocessing.html\n",
            "Please also refer to the documentation for alternative solver options:\n",
            "    https://scikit-learn.org/stable/modules/linear_model.html#logistic-regression\n",
            "  extra_warning_msg=_LOGISTIC_SOLVER_CONVERGENCE_MSG)\n"
          ],
          "name": "stderr"
        },
        {
          "output_type": "execute_result",
          "data": {
            "text/plain": [
              "GridSearchCV(cv=3, error_score=nan,\n",
              "             estimator=LogisticRegression(C=1.0, class_weight=None, dual=False,\n",
              "                                          fit_intercept=True,\n",
              "                                          intercept_scaling=1, l1_ratio=None,\n",
              "                                          max_iter=10000, multi_class='auto',\n",
              "                                          n_jobs=None, penalty='l2',\n",
              "                                          random_state=None, solver='lbfgs',\n",
              "                                          tol=0.0001, verbose=0,\n",
              "                                          warm_start=False),\n",
              "             iid='deprecated', n_jobs=None,\n",
              "             param_grid={'penalty': ['l1', 'l2'],\n",
              "                         'solver': ['sag', 'saga', 'lbfgs']},\n",
              "             pre_dispatch='2*n_jobs', refit=True, return_train_score=False,\n",
              "             scoring=None, verbose=0)"
            ]
          },
          "metadata": {
            "tags": []
          },
          "execution_count": 222
        }
      ]
    },
    {
      "cell_type": "markdown",
      "metadata": {
        "id": "fLKT9rbnORbc"
      },
      "source": [
        "Сохраним лучшие параметры"
      ]
    },
    {
      "cell_type": "code",
      "metadata": {
        "colab": {
          "base_uri": "https://localhost:8080/"
        },
        "id": "dMfqGaocpMHc",
        "outputId": "58cfda9e-1524-4a23-b366-7921d53bf019"
      },
      "source": [
        "grid_clf_logr.best_params_"
      ],
      "execution_count": null,
      "outputs": [
        {
          "output_type": "execute_result",
          "data": {
            "text/plain": [
              "{'penalty': 'l2', 'solver': 'lbfgs'}"
            ]
          },
          "metadata": {
            "tags": []
          },
          "execution_count": 223
        }
      ]
    },
    {
      "cell_type": "code",
      "metadata": {
        "id": "wdIldsy6j9HY",
        "colab": {
          "base_uri": "https://localhost:8080/"
        },
        "outputId": "e3be5179-9ecb-4ae7-fb3e-feac5bf658aa"
      },
      "source": [
        "best_clf_logr = grid_clf_logr.best_estimator_\n",
        "best_clf_logr"
      ],
      "execution_count": null,
      "outputs": [
        {
          "output_type": "execute_result",
          "data": {
            "text/plain": [
              "LogisticRegression(C=1.0, class_weight=None, dual=False, fit_intercept=True,\n",
              "                   intercept_scaling=1, l1_ratio=None, max_iter=10000,\n",
              "                   multi_class='auto', n_jobs=None, penalty='l2',\n",
              "                   random_state=None, solver='lbfgs', tol=0.0001, verbose=0,\n",
              "                   warm_start=False)"
            ]
          },
          "metadata": {
            "tags": []
          },
          "execution_count": 224
        }
      ]
    },
    {
      "cell_type": "code",
      "metadata": {
        "id": "2EVicTrvkeBC",
        "colab": {
          "base_uri": "https://localhost:8080/"
        },
        "outputId": "28842ac6-0d07-402c-ff62-01d289f1c8a1"
      },
      "source": [
        "y_pred = best_clf_logr.predict(X_test)\n",
        "y_pred"
      ],
      "execution_count": null,
      "outputs": [
        {
          "output_type": "execute_result",
          "data": {
            "text/plain": [
              "array(['Less than $40K', '$80K - $120K', 'Less than $40K', ...,\n",
              "       '$80K - $120K', 'Less than $40K', '$40K - $60K'], dtype=object)"
            ]
          },
          "metadata": {
            "tags": []
          },
          "execution_count": 225
        }
      ]
    },
    {
      "cell_type": "code",
      "metadata": {
        "colab": {
          "base_uri": "https://localhost:8080/"
        },
        "id": "72w3NHZu1TxI",
        "outputId": "eea46283-51b5-4a88-d603-06b1e4d342f1"
      },
      "source": [
        "best_clf_logr.score(X_test, y_test)\n"
      ],
      "execution_count": null,
      "outputs": [
        {
          "output_type": "execute_result",
          "data": {
            "text/plain": [
              "0.5153419593345656"
            ]
          },
          "metadata": {
            "tags": []
          },
          "execution_count": 226
        }
      ]
    },
    {
      "cell_type": "markdown",
      "metadata": {
        "id": "5eTPefeF9Zne"
      },
      "source": [
        "Score регрессии демонстрирует результат в 52%. Существенно ниже, чем показал RFR"
      ]
    },
    {
      "cell_type": "markdown",
      "metadata": {
        "id": "jPB_1RJFwMHz"
      },
      "source": [
        "Смотрим отчет по метрикам"
      ]
    },
    {
      "cell_type": "code",
      "metadata": {
        "colab": {
          "base_uri": "https://localhost:8080/"
        },
        "id": "970n8Ox7kfSX",
        "outputId": "e9096386-8336-4d73-e2d3-72f1c3d332d6"
      },
      "source": [
        "print(metrics.classification_report(y_test, y_pred))\n"
      ],
      "execution_count": null,
      "outputs": [
        {
          "output_type": "stream",
          "text": [
            "                precision    recall  f1-score   support\n",
            "\n",
            "       $120K +       0.29      0.49      0.37       211\n",
            "   $40K - $60K       0.25      0.15      0.19       536\n",
            "   $60K - $80K       0.33      0.54      0.41       416\n",
            "  $80K - $120K       0.38      0.16      0.23       443\n",
            "Less than $40K       0.78      0.83      0.80      1099\n",
            "\n",
            "      accuracy                           0.52      2705\n",
            "     macro avg       0.41      0.43      0.40      2705\n",
            "  weighted avg       0.50      0.52      0.49      2705\n",
            "\n"
          ],
          "name": "stdout"
        }
      ]
    },
    {
      "cell_type": "markdown",
      "metadata": {
        "id": "WKvnPSGr1Xr7"
      },
      "source": [
        "Метрики качества хуже, чем продемонстрировал RandomForest"
      ]
    },
    {
      "cell_type": "markdown",
      "metadata": {
        "id": "qtrHZeggmwWy"
      },
      "source": [
        "Проанализируем коэффициенты из результатов предсказания логистической регрессии"
      ]
    },
    {
      "cell_type": "code",
      "metadata": {
        "colab": {
          "base_uri": "https://localhost:8080/"
        },
        "id": "_h4SPb8t5GFP",
        "outputId": "36e91181-995b-4b67-ef08-f87f9f79b7f0"
      },
      "source": [
        "best_clf_logr.coef_[0]\n"
      ],
      "execution_count": null,
      "outputs": [
        {
          "output_type": "execute_result",
          "data": {
            "text/plain": [
              "array([ 4.15512100e-03, -4.08290813e-02, -6.88476265e-03, -7.91824023e-02,\n",
              "       -6.04069923e-02, -6.96601696e-02,  1.41468529e-04,  1.11670218e-04,\n",
              "       -3.47266952e-02, -4.72023846e-05, -1.91003567e-03, -5.43828573e-02,\n",
              "       -4.11361943e-04, -3.46855028e-02,  1.74388998e-02, -5.87414963e-02,\n",
              "       -2.92074428e-02, -2.75451234e-02,  3.45797528e-02, -1.88513106e-02,\n",
              "        5.42430332e-02, -4.85688379e-02, -2.70700880e-01,  2.17855131e-01,\n",
              "        9.54999256e-02, -1.61937425e-02,  3.13034248e-03, -1.35282275e-01,\n",
              "        9.19872002e-03, -6.20444694e-02])"
            ]
          },
          "metadata": {
            "tags": []
          },
          "execution_count": 228
        }
      ]
    },
    {
      "cell_type": "markdown",
      "metadata": {
        "id": "Kzv6zE5Y5aIf"
      },
      "source": [
        "Нормализуем коэффициенты с помощью экспоненты"
      ]
    },
    {
      "cell_type": "code",
      "metadata": {
        "id": "dAl7kbzHmk5x"
      },
      "source": [
        "coeffs = np.exp(best_clf_logr.coef_[0])\n"
      ],
      "execution_count": null,
      "outputs": []
    },
    {
      "cell_type": "markdown",
      "metadata": {
        "id": "GDdP4eI9EAIt"
      },
      "source": [
        "Посмотрим на коэффициенты"
      ]
    },
    {
      "cell_type": "code",
      "metadata": {
        "id": "xJ5BeXaaD_hn"
      },
      "source": [
        "df_coeffs = pd.DataFrame(coeffs,\n",
        "                        X.columns,\n",
        "                        columns=['coefficient']).sort_values('coefficient', ascending=False)\n"
      ],
      "execution_count": null,
      "outputs": []
    },
    {
      "cell_type": "code",
      "metadata": {
        "colab": {
          "base_uri": "https://localhost:8080/",
          "height": 947
        },
        "id": "m__Rx8v_hhlq",
        "outputId": "1ebd2ef5-1315-43e1-c655-e3537d88412c"
      },
      "source": [
        "df_coeffs.reset_index(inplace=True)\n",
        "df_coeffs.rename({'index': 'feature'}, axis=1, inplace=True)\n",
        "df_coeffs"
      ],
      "execution_count": null,
      "outputs": [
        {
          "output_type": "execute_result",
          "data": {
            "text/html": [
              "<div>\n",
              "<style scoped>\n",
              "    .dataframe tbody tr th:only-of-type {\n",
              "        vertical-align: middle;\n",
              "    }\n",
              "\n",
              "    .dataframe tbody tr th {\n",
              "        vertical-align: top;\n",
              "    }\n",
              "\n",
              "    .dataframe thead th {\n",
              "        text-align: right;\n",
              "    }\n",
              "</style>\n",
              "<table border=\"1\" class=\"dataframe\">\n",
              "  <thead>\n",
              "    <tr style=\"text-align: right;\">\n",
              "      <th></th>\n",
              "      <th>feature</th>\n",
              "      <th>coefficient</th>\n",
              "    </tr>\n",
              "  </thead>\n",
              "  <tbody>\n",
              "    <tr>\n",
              "      <th>0</th>\n",
              "      <td>Gender_M</td>\n",
              "      <td>1.243407</td>\n",
              "    </tr>\n",
              "    <tr>\n",
              "      <th>1</th>\n",
              "      <td>Card_Category_Blue</td>\n",
              "      <td>1.100209</td>\n",
              "    </tr>\n",
              "    <tr>\n",
              "      <th>2</th>\n",
              "      <td>Marital_Status_Married</td>\n",
              "      <td>1.055741</td>\n",
              "    </tr>\n",
              "    <tr>\n",
              "      <th>3</th>\n",
              "      <td>Education_Level_Uneducated</td>\n",
              "      <td>1.035185</td>\n",
              "    </tr>\n",
              "    <tr>\n",
              "      <th>4</th>\n",
              "      <td>Education_Level_Doctorate</td>\n",
              "      <td>1.017592</td>\n",
              "    </tr>\n",
              "    <tr>\n",
              "      <th>5</th>\n",
              "      <td>Attrition_Flag_Attrited Customer</td>\n",
              "      <td>1.009241</td>\n",
              "    </tr>\n",
              "    <tr>\n",
              "      <th>6</th>\n",
              "      <td>Customer_Age</td>\n",
              "      <td>1.004164</td>\n",
              "    </tr>\n",
              "    <tr>\n",
              "      <th>7</th>\n",
              "      <td>Card_Category_Platinum</td>\n",
              "      <td>1.003135</td>\n",
              "    </tr>\n",
              "    <tr>\n",
              "      <th>8</th>\n",
              "      <td>Total_Revolving_Bal</td>\n",
              "      <td>1.000141</td>\n",
              "    </tr>\n",
              "    <tr>\n",
              "      <th>9</th>\n",
              "      <td>Avg_Open_To_Buy</td>\n",
              "      <td>1.000112</td>\n",
              "    </tr>\n",
              "    <tr>\n",
              "      <th>10</th>\n",
              "      <td>Total_Trans_Amt</td>\n",
              "      <td>0.999953</td>\n",
              "    </tr>\n",
              "    <tr>\n",
              "      <th>11</th>\n",
              "      <td>Avg_Utilization_Ratio</td>\n",
              "      <td>0.999589</td>\n",
              "    </tr>\n",
              "    <tr>\n",
              "      <th>12</th>\n",
              "      <td>Total_Trans_Ct</td>\n",
              "      <td>0.998092</td>\n",
              "    </tr>\n",
              "    <tr>\n",
              "      <th>13</th>\n",
              "      <td>Months_on_book</td>\n",
              "      <td>0.993139</td>\n",
              "    </tr>\n",
              "    <tr>\n",
              "      <th>14</th>\n",
              "      <td>Card_Category_Gold</td>\n",
              "      <td>0.983937</td>\n",
              "    </tr>\n",
              "    <tr>\n",
              "      <th>15</th>\n",
              "      <td>Marital_Status_Divorced</td>\n",
              "      <td>0.981325</td>\n",
              "    </tr>\n",
              "    <tr>\n",
              "      <th>16</th>\n",
              "      <td>Education_Level_Post-Graduate</td>\n",
              "      <td>0.972831</td>\n",
              "    </tr>\n",
              "    <tr>\n",
              "      <th>17</th>\n",
              "      <td>Education_Level_High School</td>\n",
              "      <td>0.971215</td>\n",
              "    </tr>\n",
              "    <tr>\n",
              "      <th>18</th>\n",
              "      <td>Education_Level_College</td>\n",
              "      <td>0.965909</td>\n",
              "    </tr>\n",
              "    <tr>\n",
              "      <th>19</th>\n",
              "      <td>Total_Amt_Chng_Q4_Q1</td>\n",
              "      <td>0.965869</td>\n",
              "    </tr>\n",
              "    <tr>\n",
              "      <th>20</th>\n",
              "      <td>Dependent_count</td>\n",
              "      <td>0.959993</td>\n",
              "    </tr>\n",
              "    <tr>\n",
              "      <th>21</th>\n",
              "      <td>Marital_Status_Single</td>\n",
              "      <td>0.952592</td>\n",
              "    </tr>\n",
              "    <tr>\n",
              "      <th>22</th>\n",
              "      <td>Total_Ct_Chng_Q4_Q1</td>\n",
              "      <td>0.947069</td>\n",
              "    </tr>\n",
              "    <tr>\n",
              "      <th>23</th>\n",
              "      <td>Education_Level_Graduate</td>\n",
              "      <td>0.942950</td>\n",
              "    </tr>\n",
              "    <tr>\n",
              "      <th>24</th>\n",
              "      <td>Months_Inactive_12_mon</td>\n",
              "      <td>0.941381</td>\n",
              "    </tr>\n",
              "    <tr>\n",
              "      <th>25</th>\n",
              "      <td>Attrition_Flag_Existing Customer</td>\n",
              "      <td>0.939841</td>\n",
              "    </tr>\n",
              "    <tr>\n",
              "      <th>26</th>\n",
              "      <td>Contacts_Count_12_mon</td>\n",
              "      <td>0.932711</td>\n",
              "    </tr>\n",
              "    <tr>\n",
              "      <th>27</th>\n",
              "      <td>Total_Relationship_Count</td>\n",
              "      <td>0.923871</td>\n",
              "    </tr>\n",
              "    <tr>\n",
              "      <th>28</th>\n",
              "      <td>Card_Category_Silver</td>\n",
              "      <td>0.873469</td>\n",
              "    </tr>\n",
              "    <tr>\n",
              "      <th>29</th>\n",
              "      <td>Gender_F</td>\n",
              "      <td>0.762845</td>\n",
              "    </tr>\n",
              "  </tbody>\n",
              "</table>\n",
              "</div>"
            ],
            "text/plain": [
              "                             feature  coefficient\n",
              "0                           Gender_M     1.243407\n",
              "1                 Card_Category_Blue     1.100209\n",
              "2             Marital_Status_Married     1.055741\n",
              "3         Education_Level_Uneducated     1.035185\n",
              "4          Education_Level_Doctorate     1.017592\n",
              "5   Attrition_Flag_Attrited Customer     1.009241\n",
              "6                       Customer_Age     1.004164\n",
              "7             Card_Category_Platinum     1.003135\n",
              "8                Total_Revolving_Bal     1.000141\n",
              "9                    Avg_Open_To_Buy     1.000112\n",
              "10                   Total_Trans_Amt     0.999953\n",
              "11             Avg_Utilization_Ratio     0.999589\n",
              "12                    Total_Trans_Ct     0.998092\n",
              "13                    Months_on_book     0.993139\n",
              "14                Card_Category_Gold     0.983937\n",
              "15           Marital_Status_Divorced     0.981325\n",
              "16     Education_Level_Post-Graduate     0.972831\n",
              "17       Education_Level_High School     0.971215\n",
              "18           Education_Level_College     0.965909\n",
              "19              Total_Amt_Chng_Q4_Q1     0.965869\n",
              "20                   Dependent_count     0.959993\n",
              "21             Marital_Status_Single     0.952592\n",
              "22               Total_Ct_Chng_Q4_Q1     0.947069\n",
              "23          Education_Level_Graduate     0.942950\n",
              "24            Months_Inactive_12_mon     0.941381\n",
              "25  Attrition_Flag_Existing Customer     0.939841\n",
              "26             Contacts_Count_12_mon     0.932711\n",
              "27          Total_Relationship_Count     0.923871\n",
              "28              Card_Category_Silver     0.873469\n",
              "29                          Gender_F     0.762845"
            ]
          },
          "metadata": {
            "tags": []
          },
          "execution_count": 231
        }
      ]
    },
    {
      "cell_type": "markdown",
      "metadata": {
        "id": "mfrY4r82mxar"
      },
      "source": [
        "Оценим на графике"
      ]
    },
    {
      "cell_type": "code",
      "metadata": {
        "colab": {
          "base_uri": "https://localhost:8080/",
          "height": 633
        },
        "id": "tHWbaIvmm0HE",
        "outputId": "1d9b8400-6d4a-40c1-add4-03479b5d5bd1"
      },
      "source": [
        "plt.figure(figsize=(20, 6))\n",
        "sns.barplot(x=df_coeffs['feature'],\n",
        "            y=df_coeffs['coefficient'],\n",
        "            data=df_coeffs)\n",
        "plt.grid(linewidth=0.4)\n",
        "plt.xticks(rotation=90, fontsize=14)\n",
        "plt.xlabel('Feature', fontsize=15)\n",
        "plt.ylabel('Value', fontsize=15)\n",
        "plt.ylim(0.8, 1.244)\n",
        "plt.title('Feature weights', fontsize=20)\n",
        "plt.show()\n"
      ],
      "execution_count": null,
      "outputs": [
        {
          "output_type": "display_data",
          "data": {
            "image/png": "[encoded data removed]",
            "text/plain": [
              "<Figure size 1440x432 with 1 Axes>"
            ]
          },
          "metadata": {
            "tags": [],
            "needs_background": "light"
          }
        }
      ]
    },
    {
      "cell_type": "markdown",
      "metadata": {
        "id": "4rrZrFWyHCc5"
      },
      "source": [
        "Видим, что модель работает хуже, чем с Random Forest, однако также четко прослеживается влияение пола на зарплату."
      ]
    },
    {
      "cell_type": "markdown",
      "metadata": {
        "id": "1gjq90hGOB7d"
      },
      "source": [
        "## 3. Random Forest Regressor"
      ]
    },
    {
      "cell_type": "markdown",
      "metadata": {
        "id": "PA7pWrilcJUU"
      },
      "source": [
        "Подготовим данные класса *Income Category* для обучения"
      ]
    },
    {
      "cell_type": "code",
      "metadata": {
        "colab": {
          "base_uri": "https://localhost:8080/"
        },
        "id": "prpfdEtEcpPb",
        "outputId": "47e55ced-00af-418c-9907-278975804a6b"
      },
      "source": [
        "bc['Income_Category'].unique()\n"
      ],
      "execution_count": null,
      "outputs": [
        {
          "output_type": "execute_result",
          "data": {
            "text/plain": [
              "array(['$60K - $80K', 'Less than $40K', '$80K - $120K', '$40K - $60K',\n",
              "       '$120K +'], dtype=object)"
            ]
          },
          "metadata": {
            "tags": []
          },
          "execution_count": 237
        }
      ]
    },
    {
      "cell_type": "code",
      "metadata": {
        "id": "8iFdFnd3ca6E"
      },
      "source": [
        "bc['Income_Category'] = bc['Income_Category'].replace(['Less than $40K', '$40K - $60K',  '$60K - $80K', '$80K - $120K', '$120K +'],\n",
        "                                                        list(range(0,5)))\n"
      ],
      "execution_count": null,
      "outputs": []
    },
    {
      "cell_type": "code",
      "metadata": {
        "colab": {
          "base_uri": "https://localhost:8080/",
          "height": 234
        },
        "id": "9Dp3sSwbf8Ch",
        "outputId": "4bf97858-b094-480e-bebf-3a1c63b41663"
      },
      "source": [
        "bc.head()"
      ],
      "execution_count": null,
      "outputs": [
        {
          "output_type": "execute_result",
          "data": {
            "text/html": [
              "<div>\n",
              "<style scoped>\n",
              "    .dataframe tbody tr th:only-of-type {\n",
              "        vertical-align: middle;\n",
              "    }\n",
              "\n",
              "    .dataframe tbody tr th {\n",
              "        vertical-align: top;\n",
              "    }\n",
              "\n",
              "    .dataframe thead th {\n",
              "        text-align: right;\n",
              "    }\n",
              "</style>\n",
              "<table border=\"1\" class=\"dataframe\">\n",
              "  <thead>\n",
              "    <tr style=\"text-align: right;\">\n",
              "      <th></th>\n",
              "      <th>Customer_Age</th>\n",
              "      <th>Dependent_count</th>\n",
              "      <th>Income_Category</th>\n",
              "      <th>Months_on_book</th>\n",
              "      <th>Total_Relationship_Count</th>\n",
              "      <th>Months_Inactive_12_mon</th>\n",
              "      <th>Contacts_Count_12_mon</th>\n",
              "      <th>Total_Revolving_Bal</th>\n",
              "      <th>Avg_Open_To_Buy</th>\n",
              "      <th>Total_Amt_Chng_Q4_Q1</th>\n",
              "      <th>Total_Trans_Amt</th>\n",
              "      <th>Total_Trans_Ct</th>\n",
              "      <th>Total_Ct_Chng_Q4_Q1</th>\n",
              "      <th>Avg_Utilization_Ratio</th>\n",
              "      <th>Education_Level_College</th>\n",
              "      <th>Education_Level_Doctorate</th>\n",
              "      <th>Education_Level_Graduate</th>\n",
              "      <th>Education_Level_High School</th>\n",
              "      <th>Education_Level_Post-Graduate</th>\n",
              "      <th>Education_Level_Uneducated</th>\n",
              "      <th>Marital_Status_Divorced</th>\n",
              "      <th>Marital_Status_Married</th>\n",
              "      <th>Marital_Status_Single</th>\n",
              "      <th>Gender_F</th>\n",
              "      <th>Gender_M</th>\n",
              "      <th>Card_Category_Blue</th>\n",
              "      <th>Card_Category_Gold</th>\n",
              "      <th>Card_Category_Platinum</th>\n",
              "      <th>Card_Category_Silver</th>\n",
              "      <th>Attrition_Flag_Attrited Customer</th>\n",
              "      <th>Attrition_Flag_Existing Customer</th>\n",
              "    </tr>\n",
              "  </thead>\n",
              "  <tbody>\n",
              "    <tr>\n",
              "      <th>0</th>\n",
              "      <td>45</td>\n",
              "      <td>3</td>\n",
              "      <td>2</td>\n",
              "      <td>39</td>\n",
              "      <td>5</td>\n",
              "      <td>1</td>\n",
              "      <td>3</td>\n",
              "      <td>777</td>\n",
              "      <td>11914.0</td>\n",
              "      <td>1.335</td>\n",
              "      <td>1144</td>\n",
              "      <td>42</td>\n",
              "      <td>1.625</td>\n",
              "      <td>0.061</td>\n",
              "      <td>0</td>\n",
              "      <td>0</td>\n",
              "      <td>0</td>\n",
              "      <td>1</td>\n",
              "      <td>0</td>\n",
              "      <td>0</td>\n",
              "      <td>0</td>\n",
              "      <td>1</td>\n",
              "      <td>0</td>\n",
              "      <td>0</td>\n",
              "      <td>1</td>\n",
              "      <td>1</td>\n",
              "      <td>0</td>\n",
              "      <td>0</td>\n",
              "      <td>0</td>\n",
              "      <td>0</td>\n",
              "      <td>1</td>\n",
              "    </tr>\n",
              "    <tr>\n",
              "      <th>1</th>\n",
              "      <td>49</td>\n",
              "      <td>5</td>\n",
              "      <td>0</td>\n",
              "      <td>44</td>\n",
              "      <td>6</td>\n",
              "      <td>1</td>\n",
              "      <td>2</td>\n",
              "      <td>864</td>\n",
              "      <td>7392.0</td>\n",
              "      <td>1.541</td>\n",
              "      <td>1291</td>\n",
              "      <td>33</td>\n",
              "      <td>3.714</td>\n",
              "      <td>0.105</td>\n",
              "      <td>0</td>\n",
              "      <td>0</td>\n",
              "      <td>1</td>\n",
              "      <td>0</td>\n",
              "      <td>0</td>\n",
              "      <td>0</td>\n",
              "      <td>0</td>\n",
              "      <td>0</td>\n",
              "      <td>1</td>\n",
              "      <td>1</td>\n",
              "      <td>0</td>\n",
              "      <td>1</td>\n",
              "      <td>0</td>\n",
              "      <td>0</td>\n",
              "      <td>0</td>\n",
              "      <td>0</td>\n",
              "      <td>1</td>\n",
              "    </tr>\n",
              "    <tr>\n",
              "      <th>2</th>\n",
              "      <td>51</td>\n",
              "      <td>3</td>\n",
              "      <td>3</td>\n",
              "      <td>36</td>\n",
              "      <td>4</td>\n",
              "      <td>1</td>\n",
              "      <td>0</td>\n",
              "      <td>0</td>\n",
              "      <td>3418.0</td>\n",
              "      <td>2.594</td>\n",
              "      <td>1887</td>\n",
              "      <td>20</td>\n",
              "      <td>2.333</td>\n",
              "      <td>0.000</td>\n",
              "      <td>0</td>\n",
              "      <td>0</td>\n",
              "      <td>1</td>\n",
              "      <td>0</td>\n",
              "      <td>0</td>\n",
              "      <td>0</td>\n",
              "      <td>0</td>\n",
              "      <td>1</td>\n",
              "      <td>0</td>\n",
              "      <td>0</td>\n",
              "      <td>1</td>\n",
              "      <td>1</td>\n",
              "      <td>0</td>\n",
              "      <td>0</td>\n",
              "      <td>0</td>\n",
              "      <td>0</td>\n",
              "      <td>1</td>\n",
              "    </tr>\n",
              "    <tr>\n",
              "      <th>3</th>\n",
              "      <td>40</td>\n",
              "      <td>4</td>\n",
              "      <td>0</td>\n",
              "      <td>34</td>\n",
              "      <td>3</td>\n",
              "      <td>4</td>\n",
              "      <td>1</td>\n",
              "      <td>2517</td>\n",
              "      <td>796.0</td>\n",
              "      <td>1.405</td>\n",
              "      <td>1171</td>\n",
              "      <td>20</td>\n",
              "      <td>2.333</td>\n",
              "      <td>0.760</td>\n",
              "      <td>0</td>\n",
              "      <td>0</td>\n",
              "      <td>0</td>\n",
              "      <td>1</td>\n",
              "      <td>0</td>\n",
              "      <td>0</td>\n",
              "      <td>0</td>\n",
              "      <td>0</td>\n",
              "      <td>0</td>\n",
              "      <td>1</td>\n",
              "      <td>0</td>\n",
              "      <td>1</td>\n",
              "      <td>0</td>\n",
              "      <td>0</td>\n",
              "      <td>0</td>\n",
              "      <td>0</td>\n",
              "      <td>1</td>\n",
              "    </tr>\n",
              "    <tr>\n",
              "      <th>4</th>\n",
              "      <td>40</td>\n",
              "      <td>3</td>\n",
              "      <td>2</td>\n",
              "      <td>21</td>\n",
              "      <td>5</td>\n",
              "      <td>1</td>\n",
              "      <td>0</td>\n",
              "      <td>0</td>\n",
              "      <td>4716.0</td>\n",
              "      <td>2.175</td>\n",
              "      <td>816</td>\n",
              "      <td>28</td>\n",
              "      <td>2.500</td>\n",
              "      <td>0.000</td>\n",
              "      <td>0</td>\n",
              "      <td>0</td>\n",
              "      <td>0</td>\n",
              "      <td>0</td>\n",
              "      <td>0</td>\n",
              "      <td>1</td>\n",
              "      <td>0</td>\n",
              "      <td>1</td>\n",
              "      <td>0</td>\n",
              "      <td>0</td>\n",
              "      <td>1</td>\n",
              "      <td>1</td>\n",
              "      <td>0</td>\n",
              "      <td>0</td>\n",
              "      <td>0</td>\n",
              "      <td>0</td>\n",
              "      <td>1</td>\n",
              "    </tr>\n",
              "  </tbody>\n",
              "</table>\n",
              "</div>"
            ],
            "text/plain": [
              "   Customer_Age  ...  Attrition_Flag_Existing Customer\n",
              "0            45  ...                                 1\n",
              "1            49  ...                                 1\n",
              "2            51  ...                                 1\n",
              "3            40  ...                                 1\n",
              "4            40  ...                                 1\n",
              "\n",
              "[5 rows x 31 columns]"
            ]
          },
          "metadata": {
            "tags": []
          },
          "execution_count": 239
        }
      ]
    },
    {
      "cell_type": "code",
      "metadata": {
        "id": "gqM5U6RPvtOq"
      },
      "source": [
        "X = bc.drop(['Income_Category'], axis=1)\n",
        "y = bc.Income_Category\n"
      ],
      "execution_count": null,
      "outputs": []
    },
    {
      "cell_type": "code",
      "metadata": {
        "id": "vnMNRr5dvrvb"
      },
      "source": [
        "X_train, X_test, y_train, y_test = train_test_split(X, y, test_size=0.3, random_state=42)\n"
      ],
      "execution_count": null,
      "outputs": []
    },
    {
      "cell_type": "markdown",
      "metadata": {
        "id": "HyKYQ7JJ7cxb"
      },
      "source": [
        "Попробуем применять другой \"лесной\" метод *Random Forest Regressor* "
      ]
    },
    {
      "cell_type": "code",
      "metadata": {
        "id": "BU3Tb19RN_gW"
      },
      "source": [
        "rf_reg = RandomForestRegressor()\n"
      ],
      "execution_count": null,
      "outputs": []
    },
    {
      "cell_type": "markdown",
      "metadata": {
        "id": "__8ebX5ROfa1"
      },
      "source": [
        "Обучим модель на тех же параметрах"
      ]
    },
    {
      "cell_type": "code",
      "metadata": {
        "id": "x9eBvQvKOiFh",
        "colab": {
          "base_uri": "https://localhost:8080/"
        },
        "outputId": "eb5bd460-2a1b-40da-9d28-eea64830ace9"
      },
      "source": [
        "grid_clf_rfr = GridSearchCV(rf_reg,\n",
        "                        {'n_estimators': range(409, 411),\n",
        "                        'max_depth': range(8, 10)},\n",
        "                        cv=3)\n",
        "grid_clf_rfr.fit(X_train, y_train)\n"
      ],
      "execution_count": null,
      "outputs": [
        {
          "output_type": "execute_result",
          "data": {
            "text/plain": [
              "GridSearchCV(cv=3, error_score=nan,\n",
              "             estimator=RandomForestRegressor(bootstrap=True, ccp_alpha=0.0,\n",
              "                                             criterion='mse', max_depth=None,\n",
              "                                             max_features='auto',\n",
              "                                             max_leaf_nodes=None,\n",
              "                                             max_samples=None,\n",
              "                                             min_impurity_decrease=0.0,\n",
              "                                             min_impurity_split=None,\n",
              "                                             min_samples_leaf=1,\n",
              "                                             min_samples_split=2,\n",
              "                                             min_weight_fraction_leaf=0.0,\n",
              "                                             n_estimators=100, n_jobs=None,\n",
              "                                             oob_score=False, random_state=None,\n",
              "                                             verbose=0, warm_start=False),\n",
              "             iid='deprecated', n_jobs=None,\n",
              "             param_grid={'max_depth': range(8, 10),\n",
              "                         'n_estimators': range(409, 411)},\n",
              "             pre_dispatch='2*n_jobs', refit=True, return_train_score=False,\n",
              "             scoring=None, verbose=0)"
            ]
          },
          "metadata": {
            "tags": []
          },
          "execution_count": 243
        }
      ]
    },
    {
      "cell_type": "markdown",
      "metadata": {
        "id": "TpZ2YtxX7tf_"
      },
      "source": [
        "Достаем лучшие параметры и анализируем качество"
      ]
    },
    {
      "cell_type": "code",
      "metadata": {
        "id": "tuwvgMDEOj93",
        "colab": {
          "base_uri": "https://localhost:8080/"
        },
        "outputId": "3bc20de7-79fe-4cc7-da99-099a9eb76dee"
      },
      "source": [
        "grid_clf_rfr.best_params_\n"
      ],
      "execution_count": null,
      "outputs": [
        {
          "output_type": "execute_result",
          "data": {
            "text/plain": [
              "{'max_depth': 8, 'n_estimators': 409}"
            ]
          },
          "metadata": {
            "tags": []
          },
          "execution_count": 244
        }
      ]
    },
    {
      "cell_type": "code",
      "metadata": {
        "id": "kRWCi1WEOl8n"
      },
      "source": [
        "best_clf_rfr = grid_clf_rfr.best_estimator_\n"
      ],
      "execution_count": null,
      "outputs": []
    },
    {
      "cell_type": "code",
      "metadata": {
        "id": "ZF7ttFhsO1h6",
        "colab": {
          "base_uri": "https://localhost:8080/"
        },
        "outputId": "bc1aff94-9e95-4aa8-dd4f-7288aa06206c"
      },
      "source": [
        "best_clf_rfr.score(X_test, y_test)\n"
      ],
      "execution_count": null,
      "outputs": [
        {
          "output_type": "execute_result",
          "data": {
            "text/plain": [
              "0.7266633507490062"
            ]
          },
          "metadata": {
            "tags": []
          },
          "execution_count": 246
        }
      ]
    },
    {
      "cell_type": "markdown",
      "metadata": {
        "id": "kta4IScZzdcT"
      },
      "source": [
        "Хороший результат в 73%"
      ]
    },
    {
      "cell_type": "code",
      "metadata": {
        "id": "BuwVVlCQO3Vw"
      },
      "source": [
        "y_pred = best_clf_rfr.predict(X_test)\n"
      ],
      "execution_count": null,
      "outputs": []
    },
    {
      "cell_type": "markdown",
      "metadata": {
        "id": "BxtkI1HcPOXi"
      },
      "source": [
        "Сразу видим, что регрессор показал более точные результаты"
      ]
    },
    {
      "cell_type": "markdown",
      "metadata": {
        "id": "OveBkwvY71Fx"
      },
      "source": [
        "Оценим результаты визуально"
      ]
    },
    {
      "cell_type": "code",
      "metadata": {
        "id": "k1ocS6ssx-O9"
      },
      "source": [
        "features = best_clf_rfr.feature_importances_\n"
      ],
      "execution_count": null,
      "outputs": []
    },
    {
      "cell_type": "code",
      "metadata": {
        "id": "KTsMf_F2O6Az",
        "colab": {
          "base_uri": "https://localhost:8080/",
          "height": 947
        },
        "outputId": "56c380b4-2ac0-45f6-ac5e-ac61e238a5ed"
      },
      "source": [
        "feature_importances = pd.DataFrame({'features': list(X), 'feature_importances': features })\n",
        "feature_importances.sort_values('feature_importances', ascending=False, inplace=True)\n",
        "feature_importances\n"
      ],
      "execution_count": null,
      "outputs": [
        {
          "output_type": "execute_result",
          "data": {
            "text/html": [
              "<div>\n",
              "<style scoped>\n",
              "    .dataframe tbody tr th:only-of-type {\n",
              "        vertical-align: middle;\n",
              "    }\n",
              "\n",
              "    .dataframe tbody tr th {\n",
              "        vertical-align: top;\n",
              "    }\n",
              "\n",
              "    .dataframe thead th {\n",
              "        text-align: right;\n",
              "    }\n",
              "</style>\n",
              "<table border=\"1\" class=\"dataframe\">\n",
              "  <thead>\n",
              "    <tr style=\"text-align: right;\">\n",
              "      <th></th>\n",
              "      <th>features</th>\n",
              "      <th>feature_importances</th>\n",
              "    </tr>\n",
              "  </thead>\n",
              "  <tbody>\n",
              "    <tr>\n",
              "      <th>23</th>\n",
              "      <td>Gender_M</td>\n",
              "      <td>0.402848</td>\n",
              "    </tr>\n",
              "    <tr>\n",
              "      <th>22</th>\n",
              "      <td>Gender_F</td>\n",
              "      <td>0.374895</td>\n",
              "    </tr>\n",
              "    <tr>\n",
              "      <th>7</th>\n",
              "      <td>Avg_Open_To_Buy</td>\n",
              "      <td>0.103444</td>\n",
              "    </tr>\n",
              "    <tr>\n",
              "      <th>0</th>\n",
              "      <td>Customer_Age</td>\n",
              "      <td>0.047354</td>\n",
              "    </tr>\n",
              "    <tr>\n",
              "      <th>24</th>\n",
              "      <td>Card_Category_Blue</td>\n",
              "      <td>0.021274</td>\n",
              "    </tr>\n",
              "    <tr>\n",
              "      <th>9</th>\n",
              "      <td>Total_Trans_Amt</td>\n",
              "      <td>0.007265</td>\n",
              "    </tr>\n",
              "    <tr>\n",
              "      <th>6</th>\n",
              "      <td>Total_Revolving_Bal</td>\n",
              "      <td>0.006984</td>\n",
              "    </tr>\n",
              "    <tr>\n",
              "      <th>11</th>\n",
              "      <td>Total_Ct_Chng_Q4_Q1</td>\n",
              "      <td>0.005491</td>\n",
              "    </tr>\n",
              "    <tr>\n",
              "      <th>10</th>\n",
              "      <td>Total_Trans_Ct</td>\n",
              "      <td>0.005211</td>\n",
              "    </tr>\n",
              "    <tr>\n",
              "      <th>8</th>\n",
              "      <td>Total_Amt_Chng_Q4_Q1</td>\n",
              "      <td>0.005105</td>\n",
              "    </tr>\n",
              "    <tr>\n",
              "      <th>12</th>\n",
              "      <td>Avg_Utilization_Ratio</td>\n",
              "      <td>0.003900</td>\n",
              "    </tr>\n",
              "    <tr>\n",
              "      <th>2</th>\n",
              "      <td>Months_on_book</td>\n",
              "      <td>0.003514</td>\n",
              "    </tr>\n",
              "    <tr>\n",
              "      <th>27</th>\n",
              "      <td>Card_Category_Silver</td>\n",
              "      <td>0.003006</td>\n",
              "    </tr>\n",
              "    <tr>\n",
              "      <th>3</th>\n",
              "      <td>Total_Relationship_Count</td>\n",
              "      <td>0.001555</td>\n",
              "    </tr>\n",
              "    <tr>\n",
              "      <th>5</th>\n",
              "      <td>Contacts_Count_12_mon</td>\n",
              "      <td>0.001509</td>\n",
              "    </tr>\n",
              "    <tr>\n",
              "      <th>4</th>\n",
              "      <td>Months_Inactive_12_mon</td>\n",
              "      <td>0.001483</td>\n",
              "    </tr>\n",
              "    <tr>\n",
              "      <th>1</th>\n",
              "      <td>Dependent_count</td>\n",
              "      <td>0.001313</td>\n",
              "    </tr>\n",
              "    <tr>\n",
              "      <th>20</th>\n",
              "      <td>Marital_Status_Married</td>\n",
              "      <td>0.000667</td>\n",
              "    </tr>\n",
              "    <tr>\n",
              "      <th>15</th>\n",
              "      <td>Education_Level_Graduate</td>\n",
              "      <td>0.000380</td>\n",
              "    </tr>\n",
              "    <tr>\n",
              "      <th>25</th>\n",
              "      <td>Card_Category_Gold</td>\n",
              "      <td>0.000367</td>\n",
              "    </tr>\n",
              "    <tr>\n",
              "      <th>16</th>\n",
              "      <td>Education_Level_High School</td>\n",
              "      <td>0.000348</td>\n",
              "    </tr>\n",
              "    <tr>\n",
              "      <th>21</th>\n",
              "      <td>Marital_Status_Single</td>\n",
              "      <td>0.000344</td>\n",
              "    </tr>\n",
              "    <tr>\n",
              "      <th>19</th>\n",
              "      <td>Marital_Status_Divorced</td>\n",
              "      <td>0.000337</td>\n",
              "    </tr>\n",
              "    <tr>\n",
              "      <th>18</th>\n",
              "      <td>Education_Level_Uneducated</td>\n",
              "      <td>0.000282</td>\n",
              "    </tr>\n",
              "    <tr>\n",
              "      <th>29</th>\n",
              "      <td>Attrition_Flag_Existing Customer</td>\n",
              "      <td>0.000248</td>\n",
              "    </tr>\n",
              "    <tr>\n",
              "      <th>13</th>\n",
              "      <td>Education_Level_College</td>\n",
              "      <td>0.000232</td>\n",
              "    </tr>\n",
              "    <tr>\n",
              "      <th>28</th>\n",
              "      <td>Attrition_Flag_Attrited Customer</td>\n",
              "      <td>0.000222</td>\n",
              "    </tr>\n",
              "    <tr>\n",
              "      <th>17</th>\n",
              "      <td>Education_Level_Post-Graduate</td>\n",
              "      <td>0.000216</td>\n",
              "    </tr>\n",
              "    <tr>\n",
              "      <th>14</th>\n",
              "      <td>Education_Level_Doctorate</td>\n",
              "      <td>0.000183</td>\n",
              "    </tr>\n",
              "    <tr>\n",
              "      <th>26</th>\n",
              "      <td>Card_Category_Platinum</td>\n",
              "      <td>0.000024</td>\n",
              "    </tr>\n",
              "  </tbody>\n",
              "</table>\n",
              "</div>"
            ],
            "text/plain": [
              "                            features  feature_importances\n",
              "23                          Gender_M             0.402848\n",
              "22                          Gender_F             0.374895\n",
              "7                    Avg_Open_To_Buy             0.103444\n",
              "0                       Customer_Age             0.047354\n",
              "24                Card_Category_Blue             0.021274\n",
              "9                    Total_Trans_Amt             0.007265\n",
              "6                Total_Revolving_Bal             0.006984\n",
              "11               Total_Ct_Chng_Q4_Q1             0.005491\n",
              "10                    Total_Trans_Ct             0.005211\n",
              "8               Total_Amt_Chng_Q4_Q1             0.005105\n",
              "12             Avg_Utilization_Ratio             0.003900\n",
              "2                     Months_on_book             0.003514\n",
              "27              Card_Category_Silver             0.003006\n",
              "3           Total_Relationship_Count             0.001555\n",
              "5              Contacts_Count_12_mon             0.001509\n",
              "4             Months_Inactive_12_mon             0.001483\n",
              "1                    Dependent_count             0.001313\n",
              "20            Marital_Status_Married             0.000667\n",
              "15          Education_Level_Graduate             0.000380\n",
              "25                Card_Category_Gold             0.000367\n",
              "16       Education_Level_High School             0.000348\n",
              "21             Marital_Status_Single             0.000344\n",
              "19           Marital_Status_Divorced             0.000337\n",
              "18        Education_Level_Uneducated             0.000282\n",
              "29  Attrition_Flag_Existing Customer             0.000248\n",
              "13           Education_Level_College             0.000232\n",
              "28  Attrition_Flag_Attrited Customer             0.000222\n",
              "17     Education_Level_Post-Graduate             0.000216\n",
              "14         Education_Level_Doctorate             0.000183\n",
              "26            Card_Category_Platinum             0.000024"
            ]
          },
          "metadata": {
            "tags": []
          },
          "execution_count": 249
        }
      ]
    },
    {
      "cell_type": "code",
      "metadata": {
        "id": "QQZ0jeewO-69",
        "colab": {
          "base_uri": "https://localhost:8080/",
          "height": 633
        },
        "outputId": "fcdfbe24-7a75-47e0-cf30-d5db342ef562"
      },
      "source": [
        "plt.figure(figsize=(20, 6))\n",
        "sns.barplot(x=feature_importances['features'],\n",
        "            y=feature_importances['feature_importances'],\n",
        "            data=feature_importances)\n",
        "plt.grid(linewidth=0.4)\n",
        "plt.xticks(rotation=90, fontsize=14)\n",
        "plt.xlabel('Feature', fontsize=15)\n",
        "plt.ylabel('Value', fontsize=15)\n",
        "plt.title('Feature importances', fontsize=20)\n",
        "plt.show()\n"
      ],
      "execution_count": null,
      "outputs": [
        {
          "output_type": "display_data",
          "data": {
            "image/png": "[encoded data removed]",
            "text/plain": [
              "<Figure size 1440x432 with 1 Axes>"
            ]
          },
          "metadata": {
            "tags": [],
            "needs_background": "light"
          }
        }
      ]
    },
    {
      "cell_type": "markdown",
      "metadata": {
        "id": "AaiTBgChyUfq"
      },
      "source": [
        "Видим, что регрессор продемонстрировал гораздо лучшие результаты, показав тот же вывод, но с гораздо большими весами. Можно сделать предварительный вывод, что пол, кредитный показатель *open to buy* и возраст клиента влияют на предсказание заработанной платы клиента в наибольшей степени. Остальные показатели не заслуживают внимания"
      ]
    },
    {
      "cell_type": "markdown",
      "metadata": {
        "id": "8xG0jP_9bZJl"
      },
      "source": [
        "Прежде, чем делать окончательные выводы, попробуем обучить модель на ЛР"
      ]
    },
    {
      "cell_type": "markdown",
      "metadata": {
        "id": "y-MXJWfRPceN"
      },
      "source": [
        "## 4. Метод опорных векторов"
      ]
    },
    {
      "cell_type": "markdown",
      "metadata": {
        "id": "_iBR3qAn96U-"
      },
      "source": [
        "Оценим последний метод - метод опорных векторов"
      ]
    },
    {
      "cell_type": "code",
      "metadata": {
        "id": "5D1Sa0TYPj-0",
        "colab": {
          "base_uri": "https://localhost:8080/"
        },
        "outputId": "754c7350-d7e8-44c4-c7ba-c0f2f82b7e05"
      },
      "source": [
        "pipeline = Pipeline(\n",
        "    [('scalar1', StandardScaler()),\n",
        "    ('lr_classifier', SVR(kernel='rbf'))]\n",
        ")\n",
        "\n",
        "pipeline.fit(X_train, y_train)"
      ],
      "execution_count": null,
      "outputs": [
        {
          "output_type": "execute_result",
          "data": {
            "text/plain": [
              "Pipeline(memory=None,\n",
              "         steps=[('scalar1',\n",
              "                 StandardScaler(copy=True, with_mean=True, with_std=True)),\n",
              "                ('lr_classifier',\n",
              "                 SVR(C=1.0, cache_size=200, coef0=0.0, degree=3, epsilon=0.1,\n",
              "                     gamma='scale', kernel='rbf', max_iter=-1, shrinking=True,\n",
              "                     tol=0.001, verbose=False))],\n",
              "         verbose=False)"
            ]
          },
          "metadata": {
            "tags": []
          },
          "execution_count": 275
        }
      ]
    },
    {
      "cell_type": "code",
      "metadata": {
        "id": "uwOaFTH7PqDh",
        "colab": {
          "base_uri": "https://localhost:8080/"
        },
        "outputId": "2a643252-0927-43a8-c389-0d3e57294133"
      },
      "source": [
        "pipeline.score(X_test, y_test)"
      ],
      "execution_count": null,
      "outputs": [
        {
          "output_type": "execute_result",
          "data": {
            "text/plain": [
              "0.6881170767831877"
            ]
          },
          "metadata": {
            "tags": []
          },
          "execution_count": 277
        }
      ]
    },
    {
      "cell_type": "markdown",
      "metadata": {
        "id": "vR-XVoTEPsli"
      },
      "source": [
        "Результат лучше, чем у регрессии, однако хуже, чем у *random forest regressor*, поэтмоу применять для предсказания его не будем"
      ]
    },
    {
      "cell_type": "markdown",
      "metadata": {
        "id": "2SVjWXxv-J8E"
      },
      "source": [
        "# III Анализ и визуализация результатов обучения"
      ]
    },
    {
      "cell_type": "markdown",
      "metadata": {
        "id": "Kg9Y_2WjgX5j"
      },
      "source": [
        "Отсортируем и сгруппируем данные "
      ]
    },
    {
      "cell_type": "code",
      "metadata": {
        "id": "6FW6G2BjaE4k"
      },
      "source": [
        "bc1['Income_Category'] = bc1['Income_Category'].replace(['Less than $40K', '$120K +'], ['$39.9K and less', 'More than $120K'])\n"
      ],
      "execution_count": null,
      "outputs": []
    },
    {
      "cell_type": "code",
      "metadata": {
        "id": "Ri4JQlOyZ9Hn"
      },
      "source": [
        "inc_by_gender = bc1[['Gender', 'Income_Category']]\n"
      ],
      "execution_count": null,
      "outputs": []
    },
    {
      "cell_type": "code",
      "metadata": {
        "id": "kP6V87_RP4_q"
      },
      "source": [
        "inc_by_gender = pd.DataFrame(bc1.groupby('Gender')['Income_Category'].value_counts())\n"
      ],
      "execution_count": null,
      "outputs": []
    },
    {
      "cell_type": "code",
      "metadata": {
        "id": "42-C316MUH32"
      },
      "source": [
        "inc_by_gender.columns = ['Number_of_People']\n"
      ],
      "execution_count": null,
      "outputs": []
    },
    {
      "cell_type": "code",
      "metadata": {
        "id": "P82d65CVQr9H"
      },
      "source": [
        "inc_by_gender.reset_index(inplace=True)\n"
      ],
      "execution_count": null,
      "outputs": []
    },
    {
      "cell_type": "code",
      "metadata": {
        "id": "mEkHLzjfQsoA"
      },
      "source": [
        "inc_by_gender = inc_by_gender.sort_values(['Income_Category'])\n"
      ],
      "execution_count": null,
      "outputs": []
    },
    {
      "cell_type": "code",
      "metadata": {
        "colab": {
          "base_uri": "https://localhost:8080/",
          "height": 257
        },
        "id": "1Ges4B6eQXFP",
        "outputId": "ea691fa3-0358-445f-8d29-f60951b18588"
      },
      "source": [
        "inc_by_gender\n"
      ],
      "execution_count": null,
      "outputs": [
        {
          "output_type": "execute_result",
          "data": {
            "text/html": [
              "<div>\n",
              "<style scoped>\n",
              "    .dataframe tbody tr th:only-of-type {\n",
              "        vertical-align: middle;\n",
              "    }\n",
              "\n",
              "    .dataframe tbody tr th {\n",
              "        vertical-align: top;\n",
              "    }\n",
              "\n",
              "    .dataframe thead th {\n",
              "        text-align: right;\n",
              "    }\n",
              "</style>\n",
              "<table border=\"1\" class=\"dataframe\">\n",
              "  <thead>\n",
              "    <tr style=\"text-align: right;\">\n",
              "      <th></th>\n",
              "      <th>Gender</th>\n",
              "      <th>Income_Category</th>\n",
              "      <th>Number_of_People</th>\n",
              "    </tr>\n",
              "  </thead>\n",
              "  <tbody>\n",
              "    <tr>\n",
              "      <th>0</th>\n",
              "      <td>F</td>\n",
              "      <td>$39.9K and less</td>\n",
              "      <td>3284</td>\n",
              "    </tr>\n",
              "    <tr>\n",
              "      <th>6</th>\n",
              "      <td>M</td>\n",
              "      <td>$39.9K and less</td>\n",
              "      <td>277</td>\n",
              "    </tr>\n",
              "    <tr>\n",
              "      <th>1</th>\n",
              "      <td>F</td>\n",
              "      <td>$40K - $60K</td>\n",
              "      <td>1014</td>\n",
              "    </tr>\n",
              "    <tr>\n",
              "      <th>4</th>\n",
              "      <td>M</td>\n",
              "      <td>$40K - $60K</td>\n",
              "      <td>776</td>\n",
              "    </tr>\n",
              "    <tr>\n",
              "      <th>3</th>\n",
              "      <td>M</td>\n",
              "      <td>$60K - $80K</td>\n",
              "      <td>1402</td>\n",
              "    </tr>\n",
              "    <tr>\n",
              "      <th>2</th>\n",
              "      <td>M</td>\n",
              "      <td>$80K - $120K</td>\n",
              "      <td>1535</td>\n",
              "    </tr>\n",
              "    <tr>\n",
              "      <th>5</th>\n",
              "      <td>M</td>\n",
              "      <td>More than $120K</td>\n",
              "      <td>727</td>\n",
              "    </tr>\n",
              "  </tbody>\n",
              "</table>\n",
              "</div>"
            ],
            "text/plain": [
              "  Gender  Income_Category  Number_of_People\n",
              "0      F  $39.9K and less              3284\n",
              "6      M  $39.9K and less               277\n",
              "1      F      $40K - $60K              1014\n",
              "4      M      $40K - $60K               776\n",
              "3      M      $60K - $80K              1402\n",
              "2      M     $80K - $120K              1535\n",
              "5      M  More than $120K               727"
            ]
          },
          "metadata": {
            "tags": []
          },
          "execution_count": 286
        }
      ]
    },
    {
      "cell_type": "markdown",
      "metadata": {
        "id": "wNtyjKOYw_yf"
      },
      "source": [
        "Наглядно посмотрим на графики зависимостей заработанной платы от пола и показателя **open to buy**"
      ]
    },
    {
      "cell_type": "code",
      "metadata": {
        "colab": {
          "base_uri": "https://localhost:8080/",
          "height": 300
        },
        "id": "JLF5cwlrRhwx",
        "outputId": "0e1d1b06-c0b0-4a91-a9e5-35403b252db9"
      },
      "source": [
        "sns.lineplot(data=inc_by_gender, x='Income_Category', y='Number_of_People', hue='Gender', sort=True)\n"
      ],
      "execution_count": null,
      "outputs": [
        {
          "output_type": "execute_result",
          "data": {
            "text/plain": [
              "<matplotlib.axes._subplots.AxesSubplot at 0x7fa4ee70e860>"
            ]
          },
          "metadata": {
            "tags": []
          },
          "execution_count": 287
        },
        {
          "output_type": "display_data",
          "data": {
            "image/png": "[encoded data removed]",
            "text/plain": [
              "<Figure size 432x288 with 1 Axes>"
            ]
          },
          "metadata": {
            "tags": [],
            "needs_background": "light"
          }
        }
      ]
    },
    {
      "cell_type": "code",
      "metadata": {
        "colab": {
          "base_uri": "https://localhost:8080/",
          "height": 417
        },
        "id": "h7IMNYfiQsyF",
        "outputId": "07979cf4-1fcf-47d2-e5db-c438d893c483"
      },
      "source": [
        "plt.figure(figsize=(20, 6))\n",
        "sns.barplot(x='Income_Category',\n",
        "            y='Number_of_People',\n",
        "            hue='Gender',\n",
        "            data=inc_by_gender)\n",
        "plt.grid(linewidth=0.5)\n",
        "plt.xticks(fontsize=14)\n",
        "plt.xlabel('Income Category', fontsize=15)\n",
        "plt.ylabel('Number of people', fontsize=15)\n",
        "plt.title('Salary by gender', fontsize=20)\n",
        "plt.show()\n"
      ],
      "execution_count": null,
      "outputs": [
        {
          "output_type": "display_data",
          "data": {
            "image/png": "[encoded data removed]",
            "text/plain": [
              "<Figure size 1440x432 with 1 Axes>"
            ]
          },
          "metadata": {
            "tags": [],
            "needs_background": "light"
          }
        }
      ]
    },
    {
      "cell_type": "markdown",
      "metadata": {
        "id": "-WhRDWwDQyXs"
      },
      "source": [
        "Проанализируем предсказание по показателю *Open To Buy*"
      ]
    },
    {
      "cell_type": "code",
      "metadata": {
        "id": "Mo3gaF9ZVmY6"
      },
      "source": [
        "avg_otb = bc1[['Avg_Open_To_Buy', 'Income_Category']]\n"
      ],
      "execution_count": null,
      "outputs": []
    },
    {
      "cell_type": "code",
      "metadata": {
        "id": "msagICopWBa0"
      },
      "source": [
        "avg_otb = avg_otb.sort_values(['Income_Category'])\n"
      ],
      "execution_count": null,
      "outputs": []
    },
    {
      "cell_type": "code",
      "metadata": {
        "colab": {
          "base_uri": "https://localhost:8080/",
          "height": 197
        },
        "id": "IBECdjyQhiXd",
        "outputId": "4f2325e1-2163-4d81-89fe-3510d3ace47d"
      },
      "source": [
        "avg_otb.head()\n"
      ],
      "execution_count": null,
      "outputs": [
        {
          "output_type": "execute_result",
          "data": {
            "text/html": [
              "<div>\n",
              "<style scoped>\n",
              "    .dataframe tbody tr th:only-of-type {\n",
              "        vertical-align: middle;\n",
              "    }\n",
              "\n",
              "    .dataframe tbody tr th {\n",
              "        vertical-align: top;\n",
              "    }\n",
              "\n",
              "    .dataframe thead th {\n",
              "        text-align: right;\n",
              "    }\n",
              "</style>\n",
              "<table border=\"1\" class=\"dataframe\">\n",
              "  <thead>\n",
              "    <tr style=\"text-align: right;\">\n",
              "      <th></th>\n",
              "      <th>Avg_Open_To_Buy</th>\n",
              "      <th>Income_Category</th>\n",
              "    </tr>\n",
              "  </thead>\n",
              "  <tbody>\n",
              "    <tr>\n",
              "      <th>4992</th>\n",
              "      <td>394.0</td>\n",
              "      <td>$39.9K and less</td>\n",
              "    </tr>\n",
              "    <tr>\n",
              "      <th>5516</th>\n",
              "      <td>1696.0</td>\n",
              "      <td>$39.9K and less</td>\n",
              "    </tr>\n",
              "    <tr>\n",
              "      <th>5513</th>\n",
              "      <td>1217.0</td>\n",
              "      <td>$39.9K and less</td>\n",
              "    </tr>\n",
              "    <tr>\n",
              "      <th>5512</th>\n",
              "      <td>740.0</td>\n",
              "      <td>$39.9K and less</td>\n",
              "    </tr>\n",
              "    <tr>\n",
              "      <th>5510</th>\n",
              "      <td>723.0</td>\n",
              "      <td>$39.9K and less</td>\n",
              "    </tr>\n",
              "  </tbody>\n",
              "</table>\n",
              "</div>"
            ],
            "text/plain": [
              "      Avg_Open_To_Buy  Income_Category\n",
              "4992            394.0  $39.9K and less\n",
              "5516           1696.0  $39.9K and less\n",
              "5513           1217.0  $39.9K and less\n",
              "5512            740.0  $39.9K and less\n",
              "5510            723.0  $39.9K and less"
            ]
          },
          "metadata": {
            "tags": []
          },
          "execution_count": 291
        }
      ]
    },
    {
      "cell_type": "code",
      "metadata": {
        "colab": {
          "base_uri": "https://localhost:8080/",
          "height": 391
        },
        "id": "v4Tn-zTZXS_R",
        "outputId": "5f2ee338-a241-4b90-9a92-f5a1aa6927e7"
      },
      "source": [
        "sns.lineplot(data=avg_otb, x='Income_Category', y='Avg_Open_To_Buy')\n",
        "plt.grid(linewidth=0.5)\n",
        "plt.xticks(fontsize=12, rotation=60)\n",
        "plt.xlabel('Income Category', fontsize=15)\n",
        "plt.ylabel('Value', fontsize=15)\n",
        "plt.title('Salary by \"Open to buy\"', fontsize=20)\n",
        "plt.show()\n"
      ],
      "execution_count": null,
      "outputs": [
        {
          "output_type": "display_data",
          "data": {
            "image/png": "[encoded data removed]",
            "text/plain": [
              "<Figure size 432x288 with 1 Axes>"
            ]
          },
          "metadata": {
            "tags": [],
            "needs_background": "light"
          }
        }
      ]
    },
    {
      "cell_type": "markdown",
      "metadata": {
        "id": "crRapzDeP_dV"
      },
      "source": [
        "Также посмотрим зависимость от возраста, которую продемонстрировали 2 из 3 примененных алгоритмов"
      ]
    },
    {
      "cell_type": "code",
      "metadata": {
        "colab": {
          "base_uri": "https://localhost:8080/",
          "height": 301
        },
        "id": "OMlXezN4QkHg",
        "outputId": "bc1e7e8f-9345-4b9d-93d3-336f6c9ed661"
      },
      "source": [
        "bc1.head()\n"
      ],
      "execution_count": null,
      "outputs": [
        {
          "output_type": "execute_result",
          "data": {
            "text/html": [
              "<div>\n",
              "<style scoped>\n",
              "    .dataframe tbody tr th:only-of-type {\n",
              "        vertical-align: middle;\n",
              "    }\n",
              "\n",
              "    .dataframe tbody tr th {\n",
              "        vertical-align: top;\n",
              "    }\n",
              "\n",
              "    .dataframe thead th {\n",
              "        text-align: right;\n",
              "    }\n",
              "</style>\n",
              "<table border=\"1\" class=\"dataframe\">\n",
              "  <thead>\n",
              "    <tr style=\"text-align: right;\">\n",
              "      <th></th>\n",
              "      <th>CLIENTNUM</th>\n",
              "      <th>Attrition_Flag</th>\n",
              "      <th>Customer_Age</th>\n",
              "      <th>Gender</th>\n",
              "      <th>Dependent_count</th>\n",
              "      <th>Education_Level</th>\n",
              "      <th>Marital_Status</th>\n",
              "      <th>Income_Category</th>\n",
              "      <th>Card_Category</th>\n",
              "      <th>Months_on_book</th>\n",
              "      <th>Total_Relationship_Count</th>\n",
              "      <th>Months_Inactive_12_mon</th>\n",
              "      <th>Contacts_Count_12_mon</th>\n",
              "      <th>Credit_Limit</th>\n",
              "      <th>Total_Revolving_Bal</th>\n",
              "      <th>Avg_Open_To_Buy</th>\n",
              "      <th>Total_Amt_Chng_Q4_Q1</th>\n",
              "      <th>Total_Trans_Amt</th>\n",
              "      <th>Total_Trans_Ct</th>\n",
              "      <th>Total_Ct_Chng_Q4_Q1</th>\n",
              "      <th>Avg_Utilization_Ratio</th>\n",
              "      <th>Naive_Bayes_Classifier_Attrition_Flag_Card_Category_Contacts_Count_12_mon_Dependent_count_Education_Level_Months_Inactive_12_mon_1</th>\n",
              "      <th>Naive_Bayes_Classifier_Attrition_Flag_Card_Category_Contacts_Count_12_mon_Dependent_count_Education_Level_Months_Inactive_12_mon_2</th>\n",
              "    </tr>\n",
              "  </thead>\n",
              "  <tbody>\n",
              "    <tr>\n",
              "      <th>0</th>\n",
              "      <td>768805383</td>\n",
              "      <td>Existing Customer</td>\n",
              "      <td>45</td>\n",
              "      <td>M</td>\n",
              "      <td>3</td>\n",
              "      <td>High School</td>\n",
              "      <td>Married</td>\n",
              "      <td>$60K - $80K</td>\n",
              "      <td>Blue</td>\n",
              "      <td>39</td>\n",
              "      <td>5</td>\n",
              "      <td>1</td>\n",
              "      <td>3</td>\n",
              "      <td>12691.0</td>\n",
              "      <td>777</td>\n",
              "      <td>11914.0</td>\n",
              "      <td>1.335</td>\n",
              "      <td>1144</td>\n",
              "      <td>42</td>\n",
              "      <td>1.625</td>\n",
              "      <td>0.061</td>\n",
              "      <td>0.000093</td>\n",
              "      <td>0.99991</td>\n",
              "    </tr>\n",
              "    <tr>\n",
              "      <th>1</th>\n",
              "      <td>818770008</td>\n",
              "      <td>Existing Customer</td>\n",
              "      <td>49</td>\n",
              "      <td>F</td>\n",
              "      <td>5</td>\n",
              "      <td>Graduate</td>\n",
              "      <td>Single</td>\n",
              "      <td>$39.9K and less</td>\n",
              "      <td>Blue</td>\n",
              "      <td>44</td>\n",
              "      <td>6</td>\n",
              "      <td>1</td>\n",
              "      <td>2</td>\n",
              "      <td>8256.0</td>\n",
              "      <td>864</td>\n",
              "      <td>7392.0</td>\n",
              "      <td>1.541</td>\n",
              "      <td>1291</td>\n",
              "      <td>33</td>\n",
              "      <td>3.714</td>\n",
              "      <td>0.105</td>\n",
              "      <td>0.000057</td>\n",
              "      <td>0.99994</td>\n",
              "    </tr>\n",
              "    <tr>\n",
              "      <th>2</th>\n",
              "      <td>713982108</td>\n",
              "      <td>Existing Customer</td>\n",
              "      <td>51</td>\n",
              "      <td>M</td>\n",
              "      <td>3</td>\n",
              "      <td>Graduate</td>\n",
              "      <td>Married</td>\n",
              "      <td>$80K - $120K</td>\n",
              "      <td>Blue</td>\n",
              "      <td>36</td>\n",
              "      <td>4</td>\n",
              "      <td>1</td>\n",
              "      <td>0</td>\n",
              "      <td>3418.0</td>\n",
              "      <td>0</td>\n",
              "      <td>3418.0</td>\n",
              "      <td>2.594</td>\n",
              "      <td>1887</td>\n",
              "      <td>20</td>\n",
              "      <td>2.333</td>\n",
              "      <td>0.000</td>\n",
              "      <td>0.000021</td>\n",
              "      <td>0.99998</td>\n",
              "    </tr>\n",
              "    <tr>\n",
              "      <th>3</th>\n",
              "      <td>769911858</td>\n",
              "      <td>Existing Customer</td>\n",
              "      <td>40</td>\n",
              "      <td>F</td>\n",
              "      <td>4</td>\n",
              "      <td>High School</td>\n",
              "      <td>Unknown</td>\n",
              "      <td>$39.9K and less</td>\n",
              "      <td>Blue</td>\n",
              "      <td>34</td>\n",
              "      <td>3</td>\n",
              "      <td>4</td>\n",
              "      <td>1</td>\n",
              "      <td>3313.0</td>\n",
              "      <td>2517</td>\n",
              "      <td>796.0</td>\n",
              "      <td>1.405</td>\n",
              "      <td>1171</td>\n",
              "      <td>20</td>\n",
              "      <td>2.333</td>\n",
              "      <td>0.760</td>\n",
              "      <td>0.000134</td>\n",
              "      <td>0.99987</td>\n",
              "    </tr>\n",
              "    <tr>\n",
              "      <th>4</th>\n",
              "      <td>709106358</td>\n",
              "      <td>Existing Customer</td>\n",
              "      <td>40</td>\n",
              "      <td>M</td>\n",
              "      <td>3</td>\n",
              "      <td>Uneducated</td>\n",
              "      <td>Married</td>\n",
              "      <td>$60K - $80K</td>\n",
              "      <td>Blue</td>\n",
              "      <td>21</td>\n",
              "      <td>5</td>\n",
              "      <td>1</td>\n",
              "      <td>0</td>\n",
              "      <td>4716.0</td>\n",
              "      <td>0</td>\n",
              "      <td>4716.0</td>\n",
              "      <td>2.175</td>\n",
              "      <td>816</td>\n",
              "      <td>28</td>\n",
              "      <td>2.500</td>\n",
              "      <td>0.000</td>\n",
              "      <td>0.000022</td>\n",
              "      <td>0.99998</td>\n",
              "    </tr>\n",
              "  </tbody>\n",
              "</table>\n",
              "</div>"
            ],
            "text/plain": [
              "   CLIENTNUM  ... Naive_Bayes_Classifier_Attrition_Flag_Card_Category_Contacts_Count_12_mon_Dependent_count_Education_Level_Months_Inactive_12_mon_2\n",
              "0  768805383  ...                                            0.99991                                                                                \n",
              "1  818770008  ...                                            0.99994                                                                                \n",
              "2  713982108  ...                                            0.99998                                                                                \n",
              "3  769911858  ...                                            0.99987                                                                                \n",
              "4  709106358  ...                                            0.99998                                                                                \n",
              "\n",
              "[5 rows x 23 columns]"
            ]
          },
          "metadata": {
            "tags": []
          },
          "execution_count": 293
        }
      ]
    },
    {
      "cell_type": "code",
      "metadata": {
        "colab": {
          "base_uri": "https://localhost:8080/",
          "height": 406
        },
        "id": "1RXheYEdRJBz",
        "outputId": "9e211e80-b1b7-4efc-ca04-91f5720223de"
      },
      "source": [
        "inc_by_age = bc1[['Customer_Age', 'Income_Category']]\n",
        "inc_by_age\n"
      ],
      "execution_count": null,
      "outputs": [
        {
          "output_type": "execute_result",
          "data": {
            "text/html": [
              "<div>\n",
              "<style scoped>\n",
              "    .dataframe tbody tr th:only-of-type {\n",
              "        vertical-align: middle;\n",
              "    }\n",
              "\n",
              "    .dataframe tbody tr th {\n",
              "        vertical-align: top;\n",
              "    }\n",
              "\n",
              "    .dataframe thead th {\n",
              "        text-align: right;\n",
              "    }\n",
              "</style>\n",
              "<table border=\"1\" class=\"dataframe\">\n",
              "  <thead>\n",
              "    <tr style=\"text-align: right;\">\n",
              "      <th></th>\n",
              "      <th>Customer_Age</th>\n",
              "      <th>Income_Category</th>\n",
              "    </tr>\n",
              "  </thead>\n",
              "  <tbody>\n",
              "    <tr>\n",
              "      <th>0</th>\n",
              "      <td>45</td>\n",
              "      <td>$60K - $80K</td>\n",
              "    </tr>\n",
              "    <tr>\n",
              "      <th>1</th>\n",
              "      <td>49</td>\n",
              "      <td>$39.9K and less</td>\n",
              "    </tr>\n",
              "    <tr>\n",
              "      <th>2</th>\n",
              "      <td>51</td>\n",
              "      <td>$80K - $120K</td>\n",
              "    </tr>\n",
              "    <tr>\n",
              "      <th>3</th>\n",
              "      <td>40</td>\n",
              "      <td>$39.9K and less</td>\n",
              "    </tr>\n",
              "    <tr>\n",
              "      <th>4</th>\n",
              "      <td>40</td>\n",
              "      <td>$60K - $80K</td>\n",
              "    </tr>\n",
              "    <tr>\n",
              "      <th>...</th>\n",
              "      <td>...</td>\n",
              "      <td>...</td>\n",
              "    </tr>\n",
              "    <tr>\n",
              "      <th>10122</th>\n",
              "      <td>50</td>\n",
              "      <td>$40K - $60K</td>\n",
              "    </tr>\n",
              "    <tr>\n",
              "      <th>10123</th>\n",
              "      <td>41</td>\n",
              "      <td>$40K - $60K</td>\n",
              "    </tr>\n",
              "    <tr>\n",
              "      <th>10124</th>\n",
              "      <td>44</td>\n",
              "      <td>$39.9K and less</td>\n",
              "    </tr>\n",
              "    <tr>\n",
              "      <th>10125</th>\n",
              "      <td>30</td>\n",
              "      <td>$40K - $60K</td>\n",
              "    </tr>\n",
              "    <tr>\n",
              "      <th>10126</th>\n",
              "      <td>43</td>\n",
              "      <td>$39.9K and less</td>\n",
              "    </tr>\n",
              "  </tbody>\n",
              "</table>\n",
              "<p>9015 rows × 2 columns</p>\n",
              "</div>"
            ],
            "text/plain": [
              "       Customer_Age  Income_Category\n",
              "0                45      $60K - $80K\n",
              "1                49  $39.9K and less\n",
              "2                51     $80K - $120K\n",
              "3                40  $39.9K and less\n",
              "4                40      $60K - $80K\n",
              "...             ...              ...\n",
              "10122            50      $40K - $60K\n",
              "10123            41      $40K - $60K\n",
              "10124            44  $39.9K and less\n",
              "10125            30      $40K - $60K\n",
              "10126            43  $39.9K and less\n",
              "\n",
              "[9015 rows x 2 columns]"
            ]
          },
          "metadata": {
            "tags": []
          },
          "execution_count": 297
        }
      ]
    },
    {
      "cell_type": "code",
      "metadata": {
        "id": "1l0KpxBvSfc7"
      },
      "source": [
        "inc_by_age = inc_by_age.sort_values(['Income_Category'], ascending=False)\n"
      ],
      "execution_count": null,
      "outputs": []
    },
    {
      "cell_type": "code",
      "metadata": {
        "colab": {
          "base_uri": "https://localhost:8080/",
          "height": 307
        },
        "id": "wOTh4qKfQ83V",
        "outputId": "e67420ee-6940-42a5-d61e-01aaacfff054"
      },
      "source": [
        "sns.lineplot(data=inc_by_age, y='Income_Category', x='Customer_Age')\n",
        "plt.grid(linewidth=0.5)\n",
        "plt.xticks(fontsize=12)\n",
        "plt.xlabel('Income Category', fontsize=15)\n",
        "plt.ylabel('Age', fontsize=15)\n",
        "plt.title('Salary by age', fontsize=20)\n",
        "plt.show()\n"
      ],
      "execution_count": null,
      "outputs": [
        {
          "output_type": "display_data",
          "data": {
            "image/png": "[encoded data removed]",
            "text/plain": [
              "<Figure size 432x288 with 1 Axes>"
            ]
          },
          "metadata": {
            "tags": [],
            "needs_background": "light"
          }
        }
      ]
    },
    {
      "cell_type": "code",
      "metadata": {
        "colab": {
          "base_uri": "https://localhost:8080/",
          "height": 518
        },
        "id": "4nCizlQXXe8m",
        "outputId": "88a3a690-381a-4549-c4ca-ad92fd8677ed"
      },
      "source": [
        "figure = plt.figure(figsize=(15,8))\n",
        "plt.hist([inc_by_age['Customer_Age']], bins=60)\n",
        "plt.xlabel('Customer_Age')\n",
        "plt.title('Salary by age', fontsize=20)\n",
        "plt.ylabel('Salary')\n",
        "plt.show()\n"
      ],
      "execution_count": null,
      "outputs": [
        {
          "output_type": "display_data",
          "data": {
            "image/png": "[encoded data removed]",
            "text/plain": [
              "<Figure size 1080x576 with 1 Axes>"
            ]
          },
          "metadata": {
            "tags": [],
            "needs_background": "light"
          }
        }
      ]
    },
    {
      "cell_type": "markdown",
      "metadata": {
        "id": "pC4OVxf_-mRv"
      },
      "source": [
        "# IV Заключение"
      ]
    },
    {
      "cell_type": "markdown",
      "metadata": {
        "id": "jFYW1mJiw03I"
      },
      "source": [
        "В ходе анализа была произведена чистка данных, балансировка данных сэта. Датасет был создано проанализирован с помощью 4 методов машинного обучения, решая задачу классификации по заработанной плате.\n",
        "\n",
        "Из трех методов (Random Forest, Random Forest Regressor, логистической регрессии и метода опроных векторов) лучшие результаты показал Random Forest Regressor.\n",
        "\n",
        "Из анализа графиков, выведенных на основе результатов обучения модели, можно с уверенностью заключить, что на уровень дохода клиентов банка максимальное значение оказывают пол и показатель avg_open_to_buy, то есть размер кредита, доступного для покупки на данный момент, а также в меньшей степени - возраст. Все остальные данные влияют на уровень заработной платы весьма слабо. \n",
        "\n",
        "Проект может быть весьма широко использован аналитиками банка для оценки клиентов. \n",
        "Примеры практического применения:\n",
        "- решение об ориентировании маркетинга на определенную группу населения;\n",
        "- разработка стратегий подходов/линейки продуктов/персональных предложений для градаций клиентов"
      ]
    }
  ]
}